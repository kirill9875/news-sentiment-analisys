{
  "nbformat": 4,
  "nbformat_minor": 0,
  "metadata": {
    "colab": {
      "name": "Diplom ONE MORE THING.ipynb\"",
      "provenance": [],
      "collapsed_sections": [],
      "toc_visible": true
    },
    "kernelspec": {
      "display_name": "Python 3",
      "name": "python3"
    }
  },
  "cells": [
    {
      "cell_type": "markdown",
      "metadata": {
        "id": "SuFIEwV_SpId"
      },
      "source": [
        "# Анализ тональности текста новостей"
      ]
    },
    {
      "cell_type": "code",
      "metadata": {
        "id": "dWkF7MimlpDd"
      },
      "source": [
        "!git clone https://github.com/Samsung-IT-Academy/stepik-dl-nlp.git && pip install -r stepik-dl-nlp/requirements.txt\n",
        "import sys; sys.path.append('./stepik-dl-nlp')"
      ],
      "execution_count": null,
      "outputs": []
    },
    {
      "cell_type": "code",
      "metadata": {
        "id": "jBVuTPgUKxwM"
      },
      "source": [
        "!pip install deeppavlov\n",
        "!pip install -U scikit-learn"
      ],
      "execution_count": null,
      "outputs": []
    },
    {
      "cell_type": "code",
      "metadata": {
        "id": "VIRuhKyUY9uk"
      },
      "source": [
        "from sklearn.feature_extraction.text import TfidfVectorizer\n",
        "from nltk.corpus import stopwords\n",
        "from nltk import word_tokenize, sent_tokenize\n",
        "import pandas as pd\n",
        "import numpy as np\n",
        "from sklearn.model_selection import train_test_split\n",
        "from collections import defaultdict\n",
        "from sklearn.linear_model import LogisticRegression\n",
        "from sklearn.preprocessing import LabelEncoder\n",
        "from sklearn.metrics import accuracy_score, classification_report\n",
        "import json\n",
        "\n",
        "from dlnlputils.data import tokenize_text_simple_regex, tokenize_corpus\n",
        "\n",
        "from __future__ import division\n",
        "from collections import Counter\n",
        "import numba as nb\n",
        "import re, nltk\n",
        "\n",
        "import os"
      ],
      "execution_count": null,
      "outputs": []
    },
    {
      "cell_type": "code",
      "metadata": {
        "colab": {
          "base_uri": "https://localhost:8080/"
        },
        "id": "k10rNmdNe468",
        "outputId": "8c541cec-5398-472d-8149-6d1e2ec3a818"
      },
      "source": [
        "nltk.download('punkt')\n",
        "nltk.download('stopwords')"
      ],
      "execution_count": null,
      "outputs": [
        {
          "output_type": "stream",
          "text": [
            "[nltk_data] Downloading package punkt to /root/nltk_data...\n",
            "[nltk_data]   Unzipping tokenizers/punkt.zip.\n",
            "[nltk_data] Downloading package stopwords to /root/nltk_data...\n",
            "[nltk_data]   Unzipping corpora/stopwords.zip.\n"
          ],
          "name": "stderr"
        },
        {
          "output_type": "execute_result",
          "data": {
            "text/plain": [
              "True"
            ]
          },
          "metadata": {
            "tags": []
          },
          "execution_count": 4
        }
      ]
    },
    {
      "cell_type": "markdown",
      "metadata": {
        "id": "lQyciXmRaR7F"
      },
      "source": [
        "## Загрузка данных"
      ]
    },
    {
      "cell_type": "code",
      "metadata": {
        "colab": {
          "background_save": true,
          "base_uri": "https://localhost:8080/"
        },
        "id": "ZpMT72ldSyuR",
        "outputId": "403b6c3d-857d-48e7-b2d6-c082bc91fc46"
      },
      "source": [
        "# from google.colab import drive\n",
        "# drive.mount('/content/drive')"
      ],
      "execution_count": null,
      "outputs": [
        {
          "output_type": "stream",
          "text": [
            "Mounted at /content/drive\n"
          ],
          "name": "stdout"
        }
      ]
    },
    {
      "cell_type": "code",
      "metadata": {
        "colab": {
          "background_save": true
        },
        "id": "2EDHWOISaMFL"
      },
      "source": [
        "# тут Требуется считать файл train\n",
        "# with open('/content/drive/MyDrive/data/train.json', encoding=\"utf-8\") as f:\n",
        "#     raw_data = json.load(f)"
      ],
      "execution_count": null,
      "outputs": []
    },
    {
      "cell_type": "code",
      "metadata": {
        "colab": {
          "background_save": true
        },
        "id": "iIRgrNfpaMCK"
      },
      "source": [
        "texts, sents = [raw['text'] for raw in raw_data], [raw['sentiment'] for raw in raw_data]\n",
        "raw_df = pd.DataFrame.from_dict({'text': texts, 'sentiment': sents})\n"
      ],
      "execution_count": null,
      "outputs": []
    },
    {
      "cell_type": "code",
      "metadata": {
        "colab": {
          "background_save": true,
          "base_uri": "https://localhost:8080/"
        },
        "id": "AZAwdNPGaMAH",
        "outputId": "9c03743f-f6ca-4b7c-ab1f-9e694a3c5cf9"
      },
      "source": [
        "# !conda update --force-reinstall pandas\n",
        "# pd.set_option('display.max_colwidth', -1)\n",
        "raw_df.head"
      ],
      "execution_count": null,
      "outputs": [
        {
          "output_type": "execute_result",
          "data": {
            "text/plain": [
              "<bound method NDFrame.head of                                                    text sentiment\n",
              "0     Досудебное расследование по факту покупки ЕНПФ...  negative\n",
              "1     Медики рассказали о состоянии пострадавшего му...  negative\n",
              "2     Прошел почти год, как железнодорожным оператор...  negative\n",
              "3     По итогам 12 месяцев 2016 года на территории р...  negative\n",
              "4     Астана. 21 ноября. Kazakhstan Today - Агентств...  negative\n",
              "...                                                 ...       ...\n",
              "8258  Как мы писали еще весной, для увеличения сбыта...  positive\n",
              "8259  Но молодой министр национальной экономики Биши...  negative\n",
              "8260  \\n \\nВ ЕНПФ назначен новый председатель правле...   neutral\n",
              "8261  В Алматы у отделения банка произошло нападение...  negative\n",
              "8262  НПП РК «Атамекен» предлагает создать Националь...   neutral\n",
              "\n",
              "[8263 rows x 2 columns]>"
            ]
          },
          "metadata": {
            "tags": []
          },
          "execution_count": 0
        }
      ]
    },
    {
      "cell_type": "markdown",
      "metadata": {
        "id": "N3uMszamlXBb"
      },
      "source": [
        "## Биграммы и Юниграммы + графики. Синтаксические связи"
      ]
    },
    {
      "cell_type": "code",
      "metadata": {
        "colab": {
          "background_save": true
        },
        "id": "7GxyQtDulknd"
      },
      "source": [
        "train_tokenized = tokenize_corpus(texts)\n",
        "\n",
        "# train_tokenized[:1]"
      ],
      "execution_count": null,
      "outputs": []
    },
    {
      "cell_type": "code",
      "metadata": {
        "colab": {
          "background_save": true
        },
        "id": "Cto5kSSCmBfT",
        "outputId": "4f7411a7-ceed-48d5-912c-78db82439437"
      },
      "source": [
        "import nltk \n",
        "from nltk import FreqDist                # Частотный словарь\n",
        "nltk.download('punkt')                      # Модуль с пунктуацией\n",
        "from nltk.tokenize import word_tokenize     # Пространство токенизатора\n",
        "\n",
        "tokens_word = word_tokenize('\\n'.join(list(map(lambda i : ' '.join(i),train_tokenized))))\n",
        "\n",
        "tokens_word[:10]"
      ],
      "execution_count": null,
      "outputs": [
        {
          "output_type": "stream",
          "text": [
            "[nltk_data] Downloading package punkt to /root/nltk_data...\n",
            "[nltk_data]   Package punkt is already up-to-date!\n"
          ],
          "name": "stderr"
        },
        {
          "output_type": "execute_result",
          "data": {
            "text/plain": [
              "['досудебное',\n",
              " 'расследование',\n",
              " 'факту',\n",
              " 'покупки',\n",
              " 'енпф',\n",
              " 'пакета',\n",
              " 'облигаций',\n",
              " 'бузгул',\n",
              " 'аурум',\n",
              " 'было']"
            ]
          },
          "metadata": {
            "tags": []
          },
          "execution_count": 0
        }
      ]
    },
    {
      "cell_type": "code",
      "metadata": {
        "colab": {
          "background_save": true
        },
        "id": "aohl7EZ7mJbr",
        "outputId": "e7b3bbb7-89ae-4ded-93bc-88835c41e9c1"
      },
      "source": [
        "unigram = list(nltk.ngrams(tokens_word, 1))   # Выделение токенов в качестве кортежей\n",
        "bigram = list(nltk.ngrams(tokens_word, 2))    # Выделение биграмм в список кортежей   \n",
        "print(unigram[:5])  # Первые 5 токенов\n",
        "print(bigram[:5])   # Первые 5 биграмм"
      ],
      "execution_count": null,
      "outputs": [
        {
          "output_type": "stream",
          "text": [
            "[('досудебное',), ('расследование',), ('факту',), ('покупки',), ('енпф',)]\n",
            "[('досудебное', 'расследование'), ('расследование', 'факту'), ('факту', 'покупки'), ('покупки', 'енпф'), ('енпф', 'пакета')]\n"
          ],
          "name": "stdout"
        }
      ]
    },
    {
      "cell_type": "code",
      "metadata": {
        "colab": {
          "background_save": true
        },
        "id": "hhyJZDTjmRDW",
        "outputId": "318991f1-0664-4718-e0fb-cf14708be678"
      },
      "source": [
        "unigram_out =  FreqDist(unigram)\n",
        "bigram_out = FreqDist(bigram)\n",
        "print('Популярные униграммы: ', FreqDist(unigram).most_common(5))   # подсчёт популярности кортежей из токенов\n",
        "print('Популярные биграммы: ', FreqDist(bigram).most_common(5))"
      ],
      "execution_count": null,
      "outputs": [
        {
          "output_type": "stream",
          "text": [
            "Популярные униграммы:  [(('года',), 22805), (('тенге',), 15684), (('году',), 11221), (('также',), 10948), (('казахстана',), 10685)]\n",
            "Популярные биграммы:  [(('республики', 'казахстан'), 5831), (('2016', 'года'), 5291), (('млрд', 'тенге'), 5092), (('2015', 'года'), 2143), (('кроме', 'того'), 2065)]\n"
          ],
          "name": "stdout"
        }
      ]
    },
    {
      "cell_type": "code",
      "metadata": {
        "colab": {
          "background_save": true
        },
        "id": "4qzDMX48mSy7",
        "outputId": "e1e3ebbb-026a-44e3-c2c7-228110f98c67"
      },
      "source": [
        "bigram_out.plot(30,cumulative=False,title ='Распределение относительных частот слов биграмм')"
      ],
      "execution_count": null,
      "outputs": [
        {
          "output_type": "display_data",
          "data": {
            "image/png": "[encoded data removed]",
            "text/plain": [
              "<Figure size 432x288 with 1 Axes>"
            ]
          },
          "metadata": {
            "tags": []
          }
        },
        {
          "output_type": "execute_result",
          "data": {
            "text/plain": [
              "<matplotlib.axes._subplots.AxesSubplot at 0x7fc19e382590>"
            ]
          },
          "metadata": {
            "tags": []
          },
          "execution_count": 0
        }
      ]
    },
    {
      "cell_type": "code",
      "metadata": {
        "colab": {
          "background_save": true
        },
        "id": "dCREGiPQmTdF",
        "outputId": "932da1d4-855a-4706-cdc7-e351b12b7e58"
      },
      "source": [
        "unigram_out.plot(30,cumulative=False,title ='Распределение относительных частот слов униграмм')"
      ],
      "execution_count": null,
      "outputs": [
        {
          "output_type": "display_data",
          "data": {
            "image/png": "[encoded data removed]",
            "text/plain": [
              "<Figure size 432x288 with 1 Axes>"
            ]
          },
          "metadata": {
            "tags": []
          }
        },
        {
          "output_type": "execute_result",
          "data": {
            "text/plain": [
              "<matplotlib.axes._subplots.AxesSubplot at 0x7fc18f263990>"
            ]
          },
          "metadata": {
            "tags": []
          },
          "execution_count": 0
        }
      ]
    },
    {
      "cell_type": "markdown",
      "metadata": {
        "id": "CPG3bUuXsbkN"
      },
      "source": [
        "##Применяем Биграммы и униграммы. Строим нужный формат для работы\n"
      ]
    },
    {
      "cell_type": "code",
      "metadata": {
        "colab": {
          "background_save": true
        },
        "id": "4hHJuEtRxe3g"
      },
      "source": [
        "# еще раз считываем, потому что немного другой формат будет. Потом можно исправить\n",
        "with open('/content/drive/MyDrive/data/train.json' , encoding=\"utf-8\") as f:\n",
        "    train_source = json.load(f)\n",
        "    train_data = []\n",
        "    train_data_sent_lb = []\n",
        "    for i in range(0 , len(train_source)) :\n",
        "      train_tokenized = train_source[i]['text']\n",
        "      label_train = train_source[i]['sentiment']\n",
        "      train_data.append(train_tokenized)\n",
        "      train_data_sent_lb.append(label_train)"
      ],
      "execution_count": null,
      "outputs": []
    },
    {
      "cell_type": "code",
      "metadata": {
        "colab": {
          "background_save": true
        },
        "id": "pnzCTd-DxB41",
        "outputId": "5e61d5eb-7f54-4324-809f-3458ceecb4ae"
      },
      "source": [
        "\n",
        "!conda update --force-reinstall pandas\n",
        "pd.set_option('display.max_colwidth', -1)\n",
        "data = pd.DataFrame( list(zip(train_data, train_data_sent_lb)), columns= ['News','sentiment'])\n",
        "data"
      ],
      "execution_count": null,
      "outputs": [
        {
          "output_type": "stream",
          "text": [
            "/bin/bash: conda: command not found\n"
          ],
          "name": "stdout"
        },
        {
          "output_type": "stream",
          "text": [
            "/usr/local/lib/python3.7/dist-packages/ipykernel_launcher.py:3: FutureWarning: Passing a negative integer is deprecated in version 1.0 and will not be supported in future version. Instead, use None to not limit the column width.\n",
            "  This is separate from the ipykernel package so we can avoid doing imports until\n"
          ],
          "name": "stderr"
        },
        {
          "output_type": "error",
          "ename": "ImportError",
          "evalue": "ignored",
          "traceback": [
            "\u001b[0;31m---------------------------------------------------------------------------\u001b[0m",
            "\u001b[0;31mImportError\u001b[0m                               Traceback (most recent call last)",
            "\u001b[0;32m/usr/local/lib/python3.7/dist-packages/IPython/core/formatters.py\u001b[0m in \u001b[0;36m__call__\u001b[0;34m(self, obj)\u001b[0m\n\u001b[1;32m    336\u001b[0m             \u001b[0mmethod\u001b[0m \u001b[0;34m=\u001b[0m \u001b[0mget_real_method\u001b[0m\u001b[0;34m(\u001b[0m\u001b[0mobj\u001b[0m\u001b[0;34m,\u001b[0m \u001b[0mself\u001b[0m\u001b[0;34m.\u001b[0m\u001b[0mprint_method\u001b[0m\u001b[0;34m)\u001b[0m\u001b[0;34m\u001b[0m\u001b[0;34m\u001b[0m\u001b[0m\n\u001b[1;32m    337\u001b[0m             \u001b[0;32mif\u001b[0m \u001b[0mmethod\u001b[0m \u001b[0;32mis\u001b[0m \u001b[0;32mnot\u001b[0m \u001b[0;32mNone\u001b[0m\u001b[0;34m:\u001b[0m\u001b[0;34m\u001b[0m\u001b[0;34m\u001b[0m\u001b[0m\n\u001b[0;32m--> 338\u001b[0;31m                 \u001b[0;32mreturn\u001b[0m \u001b[0mmethod\u001b[0m\u001b[0;34m(\u001b[0m\u001b[0;34m)\u001b[0m\u001b[0;34m\u001b[0m\u001b[0;34m\u001b[0m\u001b[0m\n\u001b[0m\u001b[1;32m    339\u001b[0m             \u001b[0;32mreturn\u001b[0m \u001b[0;32mNone\u001b[0m\u001b[0;34m\u001b[0m\u001b[0;34m\u001b[0m\u001b[0m\n\u001b[1;32m    340\u001b[0m         \u001b[0;32melse\u001b[0m\u001b[0;34m:\u001b[0m\u001b[0;34m\u001b[0m\u001b[0;34m\u001b[0m\u001b[0m\n",
            "\u001b[0;32m/usr/local/lib/python3.7/dist-packages/pandas/core/frame.py\u001b[0m in \u001b[0;36m_repr_html_\u001b[0;34m(self)\u001b[0m\n\u001b[1;32m    796\u001b[0m         \u001b[0;32mreturn\u001b[0m \u001b[0mStyler\u001b[0m\u001b[0;34m(\u001b[0m\u001b[0mself\u001b[0m\u001b[0;34m)\u001b[0m\u001b[0;34m\u001b[0m\u001b[0;34m\u001b[0m\u001b[0m\n\u001b[1;32m    797\u001b[0m \u001b[0;34m\u001b[0m\u001b[0m\n\u001b[0;32m--> 798\u001b[0;31m     _shared_docs[\n\u001b[0m\u001b[1;32m    799\u001b[0m         \u001b[0;34m\"items\"\u001b[0m\u001b[0;34m\u001b[0m\u001b[0;34m\u001b[0m\u001b[0m\n\u001b[1;32m    800\u001b[0m     ] = r\"\"\"\n",
            "\u001b[0;32m/usr/local/lib/python3.7/dist-packages/pandas/io/formats/format.py\u001b[0m in \u001b[0;36mto_html\u001b[0;34m(self, buf, encoding, classes, notebook, border)\u001b[0m\n\u001b[1;32m    983\u001b[0m     \u001b[0mleading_space\u001b[0m \u001b[0;34m:\u001b[0m \u001b[0mbool\u001b[0m\u001b[0;34m,\u001b[0m \u001b[0moptional\u001b[0m\u001b[0;34m\u001b[0m\u001b[0;34m\u001b[0m\u001b[0m\n\u001b[1;32m    984\u001b[0m         \u001b[0mWhether\u001b[0m \u001b[0mthe\u001b[0m \u001b[0marray\u001b[0m \u001b[0mshould\u001b[0m \u001b[0mbe\u001b[0m \u001b[0mformatted\u001b[0m \u001b[0;32mwith\u001b[0m \u001b[0ma\u001b[0m \u001b[0mleading\u001b[0m \u001b[0mspace\u001b[0m\u001b[0;34m.\u001b[0m\u001b[0;34m\u001b[0m\u001b[0;34m\u001b[0m\u001b[0m\n\u001b[0;32m--> 985\u001b[0;31m         \u001b[0mWhen\u001b[0m \u001b[0man\u001b[0m \u001b[0marray\u001b[0m \u001b[0;32mas\u001b[0m \u001b[0ma\u001b[0m \u001b[0mcolumn\u001b[0m \u001b[0mof\u001b[0m \u001b[0ma\u001b[0m \u001b[0mSeries\u001b[0m \u001b[0;32mor\u001b[0m \u001b[0mDataFrame\u001b[0m\u001b[0;34m,\u001b[0m \u001b[0mwe\u001b[0m \u001b[0mdo\u001b[0m \u001b[0mwant\u001b[0m\u001b[0;34m\u001b[0m\u001b[0;34m\u001b[0m\u001b[0m\n\u001b[0m\u001b[1;32m    986\u001b[0m         \u001b[0mthe\u001b[0m \u001b[0mleading\u001b[0m \u001b[0mspace\u001b[0m \u001b[0mto\u001b[0m \u001b[0mpad\u001b[0m \u001b[0mbetween\u001b[0m \u001b[0mcolumns\u001b[0m\u001b[0;34m.\u001b[0m\u001b[0;34m\u001b[0m\u001b[0;34m\u001b[0m\u001b[0m\n\u001b[1;32m    987\u001b[0m \u001b[0;34m\u001b[0m\u001b[0m\n",
            "\u001b[0;32m/usr/local/lib/python3.7/dist-packages/pandas/io/formats/html.py\u001b[0m in \u001b[0;36m<module>\u001b[0;34m()\u001b[0m\n\u001b[1;32m     13\u001b[0m \u001b[0;32mfrom\u001b[0m \u001b[0mpandas\u001b[0m \u001b[0;32mimport\u001b[0m \u001b[0moption_context\u001b[0m\u001b[0;34m\u001b[0m\u001b[0;34m\u001b[0m\u001b[0m\n\u001b[1;32m     14\u001b[0m \u001b[0;34m\u001b[0m\u001b[0m\n\u001b[0;32m---> 15\u001b[0;31m \u001b[0;32mfrom\u001b[0m \u001b[0mpandas\u001b[0m\u001b[0;34m.\u001b[0m\u001b[0mio\u001b[0m\u001b[0;34m.\u001b[0m\u001b[0mcommon\u001b[0m \u001b[0;32mimport\u001b[0m \u001b[0m_is_url\u001b[0m\u001b[0;34m\u001b[0m\u001b[0;34m\u001b[0m\u001b[0m\n\u001b[0m\u001b[1;32m     16\u001b[0m from pandas.io.formats.format import (\n\u001b[1;32m     17\u001b[0m     \u001b[0mDataFrameFormatter\u001b[0m\u001b[0;34m,\u001b[0m\u001b[0;34m\u001b[0m\u001b[0;34m\u001b[0m\u001b[0m\n",
            "\u001b[0;31mImportError\u001b[0m: cannot import name '_is_url' from 'pandas.io.common' (/usr/local/lib/python3.7/dist-packages/pandas/io/common.py)"
          ]
        },
        {
          "output_type": "execute_result",
          "data": {
            "text/plain": [
              "                                                                                                                                                                                                                                                                                                                                                                                                                                                                                                                                                                                                                                                                                                                                                                                                                                                                                                                                                                                                                                                                                                                                                                                                                                                                                                                                                                                                                                                                                                                                                                                                                                                                                                                                                                                                                                                                                                                                                                                                                                                                                                                                                                                                                                                                                                                                                                                                                                                                                                                                                                                                                                                                                                                                                                                                                                                                                                                                                                                                                                                                                                                                                                                                                                                                                                                                                                                                                                                                                                                                                                                                                                                                                                                                                                                                                                                                                                                                                                                                                                                                                                                                                                                                                                                                                                                                                                                                                                                                                                                                                                                                                                                                                                                                                                                                                                                                                                                                                                                                                                                                                                                                                                                                                                                                                                                                                                                                                                                                                                                                                                                                                                                                                                                                                                                                                                                                                                                                                                                                                                                                                                                                                                                                                                                                                                                                                                                                                                                                                                                                                                                                                                                                                                                                                                                                                                                                                                                                                                                                                                                                                                                                                                                                                                                                                                                                                                                                                                                                                                                                                                                                                                                                                                                                                                                                                                                                                                                                                                                                                                                                                                                                                                                                                                                                                                                                                                                                                                                                                                                                                                                                                                                                                                                                                                                                                                                                                                                                                                                                                                                                                                                                                                                                                                                                                                                                                                                                                                                                                                                                                                                                                                                                                                                                                                                                                                                                                                                                                                                                                                                                                                                                                                                                                                                                                                                                                                                                                                                                                                                                                                                                                                                                                                                                                                                                                                                                                                                                                                                                                                                                                                                                                                                                                                                                                                                                                                                                                                                                                                                                                                                                                                                                                                                                                                                                                                                                                                                                                                                                                                                                                                                                                                                                       News sentiment\n",
              "0     Досудебное расследование по факту покупки ЕНПФ пакета облигаций ТОО \"Бузгул Аурум\" было начато по инициативе Национального банка РК, сообщил директор департамента защиты прав потребителей и финансовых услуг Нацбанка Казахстана Александр Терентьев.\\n\"Основанием для досудебного расследования стало обращение Национального банка, письмо от 25 ноября 2016 года. Было обращение Национального банка в правоохранительные органы. Нам эта сделка показалась сомнительной, недостаточно корректной, поэтому Нацбанк 25 ноября 2016 года обратился в правоохранительные органы. Это то, что я могу озвучить на сегодня. Идёт следствие, проводится проверка\", – сказал Терентьев.\\n28 декабря в Нацбанке заявили, что не знают, что стало основанием для проверки ЕНПФ.\\n23 декабря факт проведения проверки в АО \"Единый накопительный пенсионный фонд\" подтвердился. Пресс-служба Национального банка сообщила, что проверку проводят по операциям, совершённым АО \"ЕНПФ\" в отношении инвестирования собственных активов.\\nТакже в финрегуляторе сообщали, что по сделке ЕНПФ на сумму в пять млрд заведено уголовное дело. В Нацбанке заверяют, что всё происходящее не затрагивает пенсионных накоплений казахстанцев.\\nЕсли вы нашли ошибку в тексте, выделите ее мышью и нажмите Ctrl+Enter\\n                                                                                                                                                                                                                                                                                                                                                                                                                                                                                                                                                                                                                                                                                                                                                                                                                                                                                                                                                                                                                                                                                                                                                                                                                                                                                                                                                                                                                                                                                                                                                                                                                                                                                                                                                                                                                                                                                                                                                                                                                                                                                                                                                                                                                                                                                                                                                                                                                                                                                                                                                                                                                                                                                                                                                                                                                                                                                                                                                                                                                                                                                                                                                                                                                                                                                                                                                                                                                                                                                                                                                                                                                                                                                                                                                                                                                                                                                                                                                                                                                                                                                                                                                                                                                                                                                                                                                                                                                                                                                                                                                                                                                                                                                                                                                                                                                                                                                                                                                                                                                                                                                                                                                                                                                                                                                                                                                                                                                                                                                                                                                                                                                                                                                                                                                                                                                                                                                                                                                                                                                                                                                                                                                                                                                                                                                                                                                                                                                                                                                                                                                                                                                                                                                                                                                                                                                                                                                                                                                                                                                                                                                                                                                                                                                                                                                                                                                                                                                                                                                                                                                                                                                                                                                                                                                                                                                                                                                                                                                                                                                                                                                                                                                                                                                                                                                                                                                                                                                                                                                                                                                                                                                                                                                                                                                                                                                                                                                                                                                                                                                                                                                                                                                                                                                                                                                                                                                                                                                                                                                                                                                                                                                                                                                                                                                                                                                                                                                                                                                                                                                                                                                                                                                                                                                                                                                                                                                                                                                                                                                                                                                                                                                                                                                                                                                                                                                                                                                                 negative\n",
              "1     Медики рассказали о состоянии пострадавшего мужчины, на которого было совершено нападение возле отделения банка по Тимирязева. Как прокомментировали Tengrinews.kz в пресс-службе Управления здравоохранения Алматы, с места происшествия в службу скорой помощи обратились двое человек. \\n\\n«Одному из них на месте была оказана медицинская помощь. От госпитализации он отказался. Второй пациент был доставлен в больницу скорой неотложной помощи (БСНП) с сотрясением головного мозга, ушибленной раной головы. Состояние на данный момент оценивается ближе к удовлетворительному. Пока он проходит обследование в больнице», — сообщили в Управлении здравоохранения Алматы.  \\n\\nНапомним, в Алматы на пересечении улиц Тимирязева и Маркова возле БЦ «Алатау Гранд» произошла стрельба, ориентировочно в обеденное время. В здании расположены отделения банков «ВТБ» и «Сбербанк». \\n\\nВ настоящее время полицейские разыскивают подозреваемых в стрельбе. По факту нападения в местном управлении внутренних дел начато досудебное расследование по статье 192 УК РК «Разбой». Создана специальная следственно-оперативная группа из числа опытных сотрудников подразделений криминальной полиции. В настоящий момент проводится комплекс оперативных и следственных мероприятий, направленных на установление личностей нападавших и их задержание. \\n\\nРанее в «ДО АО Банк ВТБ (Казахстан)» прокомментировали нападение на мужчину. По данным пресс-службы банка, все отделения банка работают в штатном режиме с применением усиленных мер безопасности.   сотрудники полиции работают внутри отделения банка «ВТБ». Место происшествия не оцеплено. \\n\\n \\n                                                                                                                                                                                                                                                                                                                                                                                                                                                                                                                                                                                                                                                                                                                                                                                                                                                                                                                                                                                                                                                                                                                                                                                                                                                                                                                                                                                                                                                                                                                                                                                                                                                                                                                                                                                                                                                                                                                                                                                                                                                                                                                                                                                                                                                                                                                                                                                                                                                                                                                                                                                                                                                                                                                                                                                                                                                                                                                                                                                                                                                                                                                                                                                                                                                                                                                                                                                                                                                                                                                                                                                                                                                                                                                                                                                                                                                                                                                                                                                                                                                                                                                                                                                                                                                                                                                                                                                                                                                                                                                                                                                                                                                                                                                                                                                                                                                                                                                                                                                                                                                                                                                                                                                                                                                                                                                                                                                                                                                                                                                                                                                                                                                                                                                                                                                                                                                                                                                                                                                                                                                                                                                                                                                                                                                                                                                                                                                                                                                                                                                                                                                                                                                                                                                                                                                                                                                                                                                                                                                                                                                                                                                                                                                                                                                                                                                                                                                                                                                                                                                                                                                                                                                                                                                                                                                                                                                                                                                                                                                                                                                                                                                                                                                                                                                                                                                                                                                                                                                                                                                                                                                                                                                                                                                                                                                                                                                                                                                                                                                                                                                                                                                                                                                                                                                                                                                                                                                                                                                                                                                                                                                                                                                                                                                                                                                                                                                                                                                                                                                                                                                                                                                                                                                                                                                                                                                                                                                                                                                                                                                           negative\n",
              "2     Прошел почти год, как железнодорожным операторам запретили эксплуатировать вагоны с продленным сроком службы. Всего за 2016 г. было списано около 115 000 вагонов. Больше всего списала Первая грузовая компания Владимира Лисина – более 37 000 вагонов, Федеральная грузовая компания (ФГК, дочерняя структура РЖД) – около 19 000 вагонов. \\n\\n «С одной стороны, списание вагонов приведет к постепенному восстановлению арендной ставки, что будет способствовать росту инвестиционной привлекательности покупки новых вагонов и повысит спрос на них, стимулируя положительную динамику производства в отрасли», – говорится в мониторинге ситуации в экономике России в январе – ноябре 2015 г., подготовленном Минэкономразвития. «С другой стороны, сокращение вагонного парка за счет старых вагонов и его обновление новыми приведет к стремлению быстрее окупить приобретение, что приведет к росту тарифов перевозок, увеличивая нагрузку на грузоотправителей. В этой связи присутствует риск сокращения грузооборота железнодорожным транспортом», – добавляют авторы, отмечая, что эти тенденции могут усилиться, если возникнет дефицит по некоторым видам вагонов после сокращения парка. А есть ли дефицит? \\n\\n Операторы и регулятор расходятся во мнении, создался ли в итоге дефицит вагонов или нет. Представитель Globaltrans уверен, что на рынке дефицита вагонов нет. «Зачастую в подобных репликах понятием «дефицит вагонов» подменяют факт отсутствия ценовых предложений с уровнем ниже рыночного. И как правило, речь идет о локальной нехватке полувагонов для перевозки низкодоходных грузов. И эта локальная нехватка имеет временный характер», – объясняет собеседник. «На высоком рынке всем важно вывезти груз любой ценой. В этой ситуации сколько вагонов ни дай – всегда будет мало», – подчеркивает гендиректор железнодорожного оператора «Восток 1520» Владимир Сосипаторов. Представитель ФГК замечает локальный дефицит и считает, что «отчасти он обусловлен высокими простоями на станциях погрузки/выгрузки, в том числе на подъездных путях грузовладельцев». \\n\\n Гендиректор «Infoline-аналитики» Михаил Бурмистров обнаружил, что эффект дефицита создается еще из-за того, что выбывает старый подвижной состав, которым в основном перевозятся строительные грузы и который может направляться, например, под грейферную разгрузку, и замещается он инновационными вагонами, перевозки в которых осуществляются преимущественно маршрутами, а в структуре грузов превалируют уголь, руда, минеральные удобрения. В IV квартале 2016 г. единственные операторы неинновационных полувагонов, обладающие парком, который может быть предоставлен на спотовом рынке краткосрочных контрактов, – ФГК и «ТФМ-оператор». Все остальные крупные игроки либо сами сталкиваются с дефицитом парка из-за списания, либо перевозят грузы по долгосрочным контрактам. И в то же время к IV кварталу сократились возможности операторов повышать эффективность использования парка полувагонов, выводя их из ремонта: если на начало 2015 г. в ремонте находилось более 57 000 единиц (10% парка), на начало 2016 г. – более 39 000 (7,6% парка), то на октябрь 2016 г. – 31 600 единиц (6,6%). С сентября 2016 г. парк полувагонов перестал сокращаться, а в октябре впервые за последние 20 месяцев закупки полувагонов оказались выше объемов списания – в целом парк полувагонов за октябрь вырос примерно на 350 единиц и превысил 481 000. Ставки выросли \\n\\n Тем не менее за последние полгода ставка предоставления вагона значительно выросла. Это обеспокоило ФАС. С начала осени антимонопольное ведомство начало задумываться, как ограничить этот рост. Одним из вариантов стала разработка методики определения монопольно высокой и монопольно низкой цены, по которой устанавливался бы некий нормативный уровень, а отклонение от него более чем на 10% признавалось нарушением. Но работу ФАС в этом направлении блокировали операторы, обратившись к президенту Владимиру Путину. Результат – ФАС приостановила разработку методики. Впрочем, в конце октября служба завела дело против ФГК и РЖД, обвинив компании в злоупотреблении доминирующим положением и установлением монопольно высокой цены. \\n\\n Бурмистров указывает, что рост ставок начался летом: собственники полувагонов отказывались заключать договоры аренды, объясняя это тем, что доходность оперирования превышает 1000 руб. в сутки на фоне продолжающегося списания парка и положительной динамики перевозок и грузооборота (особенно в сегменте строительных грузов). ФГК, например, предлагала клиентам рассмотреть ставку аренды на уровне 1100 руб. без НДС, знает эксперт. Таким образом, с начала лета ставки аренды на спотовом рынке и доходность оперирования выросли более чем на 50%. Рост арендных ставок и доходности оперирования полувагонами обусловил переориентацию части грузов на крытые вагоны и хопперы-цементовозы, которые оказались и более дешевыми, и более доступными. \\n\\n Уровень ставок в конце лета – начале осени вырос в основном по инициативе самих грузоотправителей, которые хотели гарантировать наличие вагонов при любых обстоятельствах, считает Сосипаторов. Сейчас тенденция обратная: ставки постепенно падают, уверен он: «В I квартале 2017 г. можно ожидать снижения ставок на предоставление полувагонов на 10–15%. Частично это произойдет из-за перераспределения тарифной нагрузки с грузоотправителей на операторов и других участников логистических цепочек». \\n\\n Рост ставок с августа по ноябрь спровоцирован резким увеличением платежеспособного спроса на полувагоны со стороны угольных компаний (мировые цены на уголь выросли в несколько раз. – «Ведомости»), говорит представитель ФГК. «Спрос на вагоны достиг своего максимума и превысил возможности операторов по обеспечению. В связи с этим угольные предприятия, желая получить гарантию предоставления вагонов, стали заключать контракты с соразмерным премиальным увеличением ставки. Это повлекло за собой коррекцию рынка и перераспределение вагонов клиентам на долгосрочных и гарантированных условиях», – объясняет он. «Ставки предоставления полувагонов в этом году подросли, но по-прежнему не позволяют обеспечить окупаемость вагонов», – замечает представитель Globaltrans. «Высокие риски изменения спроса на полувагоны в средней и долгосрочной перспективе (10–20 лет) и длительный срок окупаемости вагонов не способствуют активизации инвестиций в этот сегмент рынка», – заключает представитель ФГК. Спрос на вагоны растет \\n\\n Загрузить заказами вагоностроительные предприятия благодаря списанию старых вагонов не особенно получилось. Ситуация на рынке неустойчива: новые вагоны покупают, но осторожно, рассказывает гендиректор «Торговый дом ТМХ» (структура «Трансмашхолдинга») Дмитрий Вонаков. Например, сейчас перевозчики спешат подать заявки на госсубсидии, которые предоставляются на приобретение некоторых видов новых грузовых вагонов. Это закономерно вызывает повышение спроса. Но какова будет позиция государства в будущем году, пока не ясно. В 2016 г. на предприятиях холдинга будет выпущено около 520 грузовых вагонов (хопперов и фитинговых платформ). У «Трансмашхолдинга» есть контракт на производство 200 фитинговых платформ для «Трансойла», который будет исполнен в течение I квартала 2017 г., и несколько небольших заказов (на 20–30 единиц), рассказывает Вонаков. Но всплеск спроса из-за ограниченности не оказывает влияния на стоимость вагонов: сегодня цены находятся на уровне себестоимости, подчеркивает топ-менеджер. \\n\\n Корпорация «Уралвагонзавод» (УВЗ) планирует в 2016 г. выпустить почти в 3 раза грузовых вагонов больше, чем в 2015 г., – около 8000 вагонов, примерно 80% из них – инновационные, рассказывает представитель УВЗ. Основные заказчики – ФГК, СУЭК, «Еврохим», а также транспортные компании Ирана и Туркмении, говорит он. «С одной стороны, наши потребители не могут заплатить за вагон больше цены, которая сможет окупиться при существующих ставках предоставления подвижного состава. С другой – поставщики металла и комплектующих в первой половине года резко повысили отпускные цены. В результате нам в 2016 г. пришлось сохранять цены на подвижной состав, балансируя на грани рентабельности», – делится представитель УВЗ. «Фактически вагоностроители в 2016 г. работают по ценам 2012 г. При этом цены на металлопрокат в этом году по сравнению с тем же 2012 г. в зависимости от сортамента увеличились до 50%!» – говорит собеседник «Ведомостей». Сейчас УВЗ формирует портфель заказов на 2017 г. Пул потребителей сохранится, но вот модельный ряд зависит от того, сохранятся субсидии на покупку инновационных вагонов или нет, признает представитель УВЗ.\\n                                                                                                                                                                                                                                                                                                                                                                                                                                                                                                                                                                                                                                                                                                                                                                                                                                                                                                                                                                                                                                                                                                                                                                                                                                                                                                                                                                                                                                                                                                                                                                                                                                                                                                                                                                                                                                                                                                                                                                                                                                                                                                                                                                                                                                                                                                                                                                                                                                                                                                                                                                                                                                                                                                                                                                                                                                                                                                                                                                                                                                                                                                                                                                                                                                                                                                                                  negative\n",
              "3     По итогам 12 месяцев 2016 года на территории республики выпущено 11047 единиц автотранспортных средств на сумму 71,1 млрд тенге, что на 26% ниже результата годичной давности (в натуральном выражении). Об этом Liter.kz cообщили в Союзе предприятий автомобильной отрасли Казахстана «КазАвтоПром». \\n\\n  \\n\\n8 397 единиц пришлось на легковую технику (минус 32,6% к аналогичному значению 2015 года). Выпуск грузовых автомобилей на казахстанских предприятиях по итогам 12 месяцев 2016 года вырос на 22,5% и достиг 1892ед. Производство автобусной техники в отчетный период увеличилось на 22,7%,до отметки 362 единицы.  \\n\\n  \\n\\n«Основным фактором сокращения производственных показателей автопрома в 2015-2016 гг. стал резкий спад рыночной активности. Так, по итогам 12 месяцев 2016 года официальными дилерами реализовано 46,8тыс.автотранспортных средств всех категорий против 97,5 тыс. единиц в 2015 году (падение на 52%)», - говорится в распространенном сообщении. \\n\\n  \\n\\nТем не менее динамика второй половины 2016 года свидетельствуют о планомерном оздоровлении отрасли. Спад совокупных показателей производства замедлился с 56% в январе-июне 2016 года до 26% по результатам 12 месяцев. \\n\\n  \\n\\nСбыт отечественных автозаводов в 2016 году составил 12 176 единиц. Доля автомобилей локальной сборки достигла 26% по итогам 12 месяцев 2016 года против 17,3% в 2015 году. Причем в декабре 2016 года этот показатель обновил исторический рекорд и составил 36,5%. 4244 автомобиля (или 35% сбыта казахстанских автозаводов) были реализованы в рамках государственной программы льготных автокредитов. \\n\\n  \\n\\nЛидирующую позицию в сегменте автомобилей локальной сборки занимает продукция АО «АЗИЯ АВТО» - 6928 проданных автомобилей, или 56,9% суммарного сбыта отечественной легковой техники. ТОО «СарыаркаАвтоПром» было отгружено 3066 единиц. Доля предприятия составила 25,2%. Далее в рейтинге сбыта продукции отечественных автопроизводителей расположились АО «Агромашхолдинг» (843 ед.; 6,9%), АО «КАМАЗ-Инжиниринг» (538 ед.; 4,4%), ТОО «Hyundai AutoTruck&Bus» (468 ед.; 3,8%) и ТОО «СемАЗ» (333 ед.; 2,7%). \\n\\n  \\n\\nПятёрку наиболее востребованных брендов легковых авто казахстанской сборки по итогам 12 месяцев 2016 г. составили Lada (3194 ед.), Kia (2212 ед.), Hyundai (1917 ед.), Skoda (838 ед.) и Chevrolet (684 ед.). В список марок, предлагаемых отечественными предприятиями, вошли также JAC (622 ед.), Peugeot(452 ед.), Geely (426 ед.), Toyota (243 ед.) и SsangYong(119 ед.). \\n\\n  \\n\\nРейтинг продаж легковых моделей локального производства возглавили Lada 4x4 (2088ед.), Hyundai Elantra (975 ед.), Lada Granta(854 ед.), Kia Sportage (705 ед.), Skoda Rapid (486 ед.), JACS3 (392 ед.), Peugeot 301 (354 ед.), Hyundai Santa Fe (331 ед.),KIASorento (280 ед.) и KIA Cerato (279 ед.). \\n\\n  \\n\\nВклад предприятий автопрома в структуру ВВП республики по итогам 2016 г. Достиг 71,1 млрд тенге, значительно превысив аналогичные показатели таких отраслей, как фармацевтическая (42,4 млрд тенге), текстильная промышленность (39,2 млрд тенге) и приблизившись к объемам выпуска легкой промышленности (79,4 млрд тенге). \\n\\n  \\n\\nВ декабре 2016 года были полностью освоены средства второго транша государственной программы льготных автокредитов. Напомним, в рамках программы, стартовавшей в апреле 2015 года, из Нацфонда было выделено 26 млрд тенге в целях кредитования физических лиц на приобретение автомобилей казахстанской сборки по номинальной ставке 4%. Финансовые ресурсы программы сегодня освоены на 119,6%. \\n\\n  \\n\\nЗа истекшие 20 месяцев работы программы Банком развития Казахстана было выдано 8340 кредитов на общую сумму 31,1 млрд. тенге. 4211 реализованных автомобилей пришлось на модельный ряд завода АО «АЗИЯ АВТО». Заемщикам программы было продано 3003 автомобиля, собранных на ТОО «СарыаркаАвтоПром» и 1126 единиц техники, выпущенной АО «Агромашхолдинг».\\n                                                                                                                                                                                                                                                                                                                                                                                                                                                                                                                                                                                                                                                                                                                                                                                                                                                                                                                                                                                                                                                                                                                                                                                                                                                                                                                                                                                                                                                                                                                                                                                                                                                                                                                                                                                                                                                                                                                                                                                                                                                                                                                                                                                                                                                                                                                                                                                                                                                                                                                                                                                                                                                                                                                                                                                                                                                                                                                                                                                                                                                                                                                                                                                                                                                                                                                                                                                                                                                                                                                                                                                                                                                                                                                                                                                                                                                                                                                                                                                                                                                                                                                                                                                                                                                                                                                                                                                                                                                                                                                                                                                                                                                                                                                                                                                                                                                                                                                                                                                                                                                                                                                                                                                                                                                                                                                                                                                                                                                                                                                                                                                                                                                                                                                                                                                                                                                                                                                                                                                                                                                                                                                                                                                                                                                                                                                                                                                                                                                                                                                                                                                                                                                                                                                                                                                                                                                                                                                                                                                                                                                                                                                                                                                                                                                                                                                                                                                                                                                                                                                                                                                                                                                                                                                                                                                                                                                                                                                                                                                                                                                                                                                                                                                   negative\n",
              "4     Астана. 21 ноября. Kazakhstan Today - Агентство РК по делам государственной службы и противодействию коррупции выражает обеспокоенность участившимися фактами коррупции в квазигосударственном секторе, сообщила пресс-служба ведомства. \\n Согласно сообщению, в результате мониторинга агентством выявлены серьезные коррупционные риски в квазигосударственном секторе. Анализ показал рост коррупционных правонарушений в данном направлении почти в 1,5 раза по сравнению с прошлым годом (с 143 до 202). В этой сфере, в основном, \"преобладают факты хищения, злоупотребления должностными полномочиями, взяточничество при осуществлении закупок и реализации госпрограмм\", передает Kazakhstan Today. \\n В ведомстве напомнили, что Антикоррупционной службой изобличены зампредседателя правления АО \"Байтерек Devolopment\" Джакупов, руководитель Дирекции по реализации госпрограмм Айтимбетов, управляющий директор Сариев, которые наладили преступную схему по получению взяток от 13 организаций в Уральске, Кокшетау, Атырау, Актобе, Таразе, Талдыкоргане за лоббирование их интересов при строительстве арендного жилья в рамках госпрограммы \"Нурлы жол\". \\n По данным пресс-службы, коррупционные преступления руководителями \"Байтерек Devolopment\" совершались в течении длительного времени на системной основе, при этом каждому из них отвадилась определенная роль. В рамках госпрограммы \"Нурлы жол\" \"Байтерек Devolopment\" определен основным оператором по строительству арендного и кредитного жилья для социально уязвимых слоев населения. Одним из главных предпосылок создания коррупционных рисков в АО \"Байтерек Devolopment\" являлось право самостоятельно устанавливать порядок отбора застройщиков и определять им соответствующие требования. \\n \"Анализ выявил целый ряд дискреционных и коррупциогенных норм в деятельности \"Байтерек Devolopment\": прием заявок от застройщиков осуществляется исключительно напрямую путем обращения в АО (в бумажном формате); необоснованно определен значительный перечень представляемых документов (всего 43); процесс рассмотрения документов сведен к прохождению многочисленных этапов, при этом оператор наделен правом отправить проект на доработку либо вообще отказать в его рассмотрении; состав комиссии по отбору проектов состоит исключительно из руководителей и представителей заинтересованных подразделений АО. Искусственно созданные барьеры, отсутствие открытости, широта дискреционных полномочий безусловно явились условиями для коррупции\", - подчеркнули в ведомстве. \\n Аналогичные преступления с участием первых руководителей пресечены в госкорпарациях \"Астана ЭКСПО-2017\", АО \"НК\"СПК \"Астана\", СПК \"Жетысу\", АО \"КТЖ\", АО \"Казахтелеком\", АО \"Международный центр приграничного сотрудничества \"Хоргос\", АО \"КазМунайГазОнімдері\" и других. Анализ показал, что из всех зарегистрированных коррупционных преступлений в квазигосударственном секторе 55 % (112) совершается в рамках закупок. \\n Как отмечается в сообщении, \"первопричиной сложившейся ситуации стало отсутствие единых подходов при осуществлении закупок, информационно-аналитической платформы, недостаточный уровень прозрачности, преобладание административных способов регулирования. Вместе с тем, документы не проходят процедуры публичного обсуждения, согласования, проведения экспертизы, регистрации в органах юстиции как нормативные правовые акты. Их разработка и утверждение отданы на откуп самим холдингам и компаниям\". \\n В ведомстве также выявили, что в системе закупок квазигоссектора практически отсутствуют механизмы контроля, не отслеживается ход их проведения и не публикуются результаты, заявки в отдельных компаниях по прежнему принимаются в бумажном формате. \\n Для исключения коррупционных рисков в данной сфере агентство предлагает: кардинально пересмотреть подходы по проведению закупок в квазигосударственном секторе с разработкой отдельного нормативного правового акта и внедрением современных механизмов электронных закупок; провести масштабную ревизию всех внутренних документов национальных холдингов и компаний, регламентирующих порядок расходования госсредств путем создания специальную рабочей группы из числа представителей заинтересованных госорганов, субъектов квазигосударственного сектора и НПП \"Атамекен\"; распространить нормы закона \"О правовых актах\" о порядке разработки, обсуждения, принятия, регистрации, введения в действие и опубликования на внутренние документы квазигосударственного сектора. \\n Кроме этого, предлагается \"рассмотреть вопрос о проведении аудита финансово-хозяйственной деятельности всех субъектов квазигосударственного сектора, комплексного анализа нацкомпаний и их дочерних организаций на предмет эффективности, прибыльности и результативности; внести соответствующие изменения в Правила отбора и финансирования проектов жилищного строительства в рамках программы \"Нурлы жол\", исключающие коррупционные и дискреционные нормы, предусмотреть механизмы открытости и прозрачности принимаемых решений с внедрением института общественного контроля\". Просмотров: 820 При использовании информации с сайта гиперссылка на информационное агентство Kazakhstan Today обязательна. Авторские права на материалы агентства. Заметили ошибку на сайте? Выделите текст и нажмите Ctrl+Enter\\n                                                                                                                                                                                                                                                                                                                                                                                                                                                                                                                                                                                                                                                                                                                                                                                                                                                                                                                                                                                                                                                                                                                                                                                                                                                                                                                                                                                                                                                                                                                                                                                                                                                                                                                                                                                                                                                                                                                                                                                                                                                                                                                                                                                                                                                                                                                                                                                                                                                                                                                                                                                                                                                                                                                                                                                                                                                                                                                                                                                                                                                                                                                                                                                                                                                                                                                                                                                                                                                                                                                                                                                                                                                                                                                                                                                                                                                                                                                                                                                                                                                                                                                                                                                                                                                                                                                                                                                                                                                                                                                                                                                                                                                                                                                                                                                                                                                                                                                                                                                                                                                                                                                                                                                                                                                                                                                                                                                                                                                                                                                                                                                                                                                                                                                                                                                                                                                                                                                                                                                                                                                                                                                                                                                                                                                                                                                                                                                                                                                                                                                                                                                                                                                                                                                                                                                         negative\n",
              "...                                                                                                                                                                                                                                                                                                                                                                                                                                                                                                                                                                                                                                                                                                                                                                                                                                                                                                                                                                                                                                                                                                                                                                                                                                                                                                                                                                                                                                                                                                                                                                                                                                                                                                                                                                                                                                                                                                                                                                                                                                                                                                                                                                                                                                                                                                                                                                                                                                                                                                                                                                                                                                                                                                                                                                                                                                                                                                                                                                                                                                                                                                                                                                                                                                                                                                                                                                                                                                                                                                                                                                                                                                                                                                                                                                                                                                                                                                                                                                                                                                                                                                                                                                                                                                                                                                                                                                                                                                                                                                                                                                                                                                                                                                                                                                                                                                                                                                                                                                                                                                                                                                                                                                                                                                                                                                                                                                                                              ...                                                                                                                                                                                                                                                                                                                                                                                                                                                                                                                                                                                                                                                                                                                                                                                                                                                                                                                                                                                                                                                                                                                                                                                                                                                                                                                                                                                                                                                                                                                                                                                                                                                                                                                                                                                                                                                                                                                                                                                                                                                                                                                                                                                                                                                                                                                                                                                                                                                                                                                                                                                                                                                                                                                                                                                                                                                                                                                                                                                                                                                                                                                                                                                                                                                                                                                                                                                                                                                                                                                                                                                                                                                                                                                                                                                                                                                                                                                                                                                                                                                                                                                                                                                                                                                                                                                                                                                                                                                                                                                                                                                                                                                                                                                                                                                                                                                                                                                                                                                                                                                                                                                                                                                                                                                                                                                                                                                                                                                                                                                                                                                                                                                                                                                                                                                                                                                                                                                                                                                                                                                                                                                                                                                                                                                                                                                                                                                                                                                                                                                                                                                                                                                                                                                                                                                              ...\n",
              "8258  Как мы писали еще весной, для увеличения сбыта, а также избегания переплаты лишних денег за утилизационный сбор, Hyundai организует производство наиболее популярных своих моделей в Казахстане. Сейчас эта информация нашла свое подтверждение. Уже в декабре на костанайском заводе обещают начать сборку нового поколения Elantra (сейчас собирают предыдущее) со стартовой ценой 5 600 000 тенге. В салоны дилеров автомобиль поступит в январе-феврале 2017 года. \\n\\n Примерно в это время начнется крупноузловая сборка седана Accent и кроссоверов Creta и Tucson. Машинокомплекты для этих Creta и Accent будут поставляться из России, где осуществляется их сборка по полному циклу. Также в 2017 году в Казахстане могут начаться поставки электромобиля Hyundai Ioniq по цене примерно $35 000. Когда это произойдет точно, пока неизвестно. \\n\\n Автомобили, собранные в Казахстане, не станут дешевле привезенных. Зато их можно будет купить по программе льготного кредитования под 4% годовых. Компания надеется, что это позволит ей поднять продажи и вернуть лидерство на рынке.\\n                                                                                                                                                                                                                                                                                                                                                                                                                                                                                                                                                                                                                                                                                                                                                                                                                                                                                                                                                                                                                                                                                                                                                                                                                                                                                                                                                                                                                                                                                                                                                                                                                                                                                                                                                                                                                                                                                                                                                                                                                                                                                                                                                                                                                                                                                                                                                                                                                                                                                                                                                                                                                                                                                                                                                                                                                                                                                                                                                                                                                                                                                                                                                                                                                                                                                                                                                                                                                                                                                                                                                                                                                                                                                                                                                                                                                                                                                                                                                                                                                                                                                                                                                                                                                                                                                                                                                                                                                                                                                                                                                                                                                                                                                                                                                                                                                                                                                                                                                                                                                                                                                                                                                                                                                                                                                                                                                                                                                                                                                                                                                                                                                                                                                                                                                                                                                                                                                                                                                                                                                                                                                                                                                                                                                                                                                                                                                                                                                                                                                                                                                                                                                                                                                                                                                                                                                                                                                                                                                                                                                                                                                                                                                                                                                                                                                                                                                                                                                                                                                                                                                                                                                                                                                                                                                                                                                                                                                                                                                                                                                                                                                                                                                                                                                                                                                                                                                                                                                                                                                                                                                                                                                                                                                                                                                                                                                                                                                                                                                                                                                                                                                                                                                                                                                                                                                                                                                                                                                                                                                                                                                                                                                                                                                                                                                                                                                                                                                                                                                                                                                                                                                                                                                                                                                                                                                                                                                                                                                                                                                                                                                                                                                                                                                                                                                                                                                                                                                                                                                                                                                                                                                                positive\n",
              "8259  Но молодой министр национальной экономики Бишимбаев, похоже, придумал свой гениальный план. Он не только оставил НДС, но и ратует за то, чтобы его платил даже малый и средний бизнес. А что? И казна будет полна, и экспортеры – в шоколаде! Но выживут ли мелкие бизнесмены? Это, похоже, сейчас не важно…\\nЯ помню, как в начале всей этой тряски с экономикой чиновники хором говорили, что малый и средний бизнес должен вынести на своих плечах страну из кризиса. Обеспечить самозанятость, увеличить производство местной продукции, пополнить бюджет. Рухнувшие цены на нефть еще больше укрепили веру в МСБ. Спасательным кругом должны были стать налоговая реформа, кардинальный пересмотр условий, в которых приходится работать бизнесу. Проблема была настолько важна, что Президент выступил с программой “100 конкретных шагов”, и один из основных ее пунктов, который вызвал самые бурные обсуждения, касался замены НДС. Эксперты кинулись искать альтернативу. Тогда все открыто говорили, что НДС – один из самых коррупционных налогов, сам Президент назвал его “непрозрачным”.\\n“Сегодня у нас возник целый бизнес по возврату НДС. Не поймешь, откуда что идет. Прямо люди занимаются возвратом НДС, и НДС стал налогом бОльшим, чем все налоги, какие вообще есть у нас”, – сказал тогда Нурсултан Назарбаев.\\nНо даже, если откинуть коррупционные схемы, сам налог с продаж в странах, завязанных на сырье, весьма тяжел для экономики. Ведь крупные компании-экспортеры получают возмещение своих затрат из бюджета. Тогда как работающие на рынок страны бизнесмены должны платить НДС в размере 12 процентов. История с гигантом “Арселор Миттал”, который потребовал аккурат перед кризисом вернуть ему долги по НДС в размере 11 миллиардов тенге, стала наглядным примером того, как НДС может аукнуться, когда экономику лихорадит.\\nПришедший в мае министр Бишимбаев, молодой и амбициозный, должен был решить непростую задачу. Речь шла о спасении бюджета страны и состоянии экономики в целом. Но, похоже, он решил пойти совсем иным путем. И вместо того, чтобы отказаться от НДС либо снизить его, начал всячески укреплять позиции этого сомнительного вида налога. Конечно, такому повороту дел не могут не порадоваться крупные предприятия, работающие на экспорт. Но малый и средний бизнес буквально встал на дыбы.\\nНа днях апогеем этого противостояния стало выступление Бишимбаева в парламенте. Уже не скрывая своих симпатий и антипатий, министр сообщил о том, что НДС должны платить почти все. Что вызвало бурю негодования как среди депутатов, так и в бизнес-среде.\\nВторник выдался весьма напряженным у Куандыка Валихановича. На заседании мажилиса парламента по теме “О внесении изменений и дополнений в некоторые законодательные акты РК по вопросам налогообложения и таможенного администрирования” он озвучил планы, как будут внедрять НДС, опуская порог и вовлекая все больше плательщиков. С 2018 года количество бизнесменов, платящих НДС, должно увеличиться на 8 510 субъектов, и с каждым годом их число должно будет только расти. В общем, с такими темпами в будущем НДС должны будут платить даже мелкие кафешки и самсятницы. К слову, сегодня, имея даже трехпроцентный упрощенный налог, далеко не все они стремятся выходить из тени, а замена на 12 процентов уж точно не прибавит этого желания. Между тем именно с теневой экономикой таким вот странным образом решил бороться министр.\\nНа заседании вдруг все перевернулось с ног на голову. Бишимбаев договорился до того, что законопослушные плательщики налогов МСБ вдруг из спасителей экономики превратились в отъявленных халявщиков, жирующих за счет несчастного крупного бизнеса. О возврате НДС этим самым крупным экспортерам почему-то все вдруг позабыли…\\n– Сегодня треть казахстанских предприятий, в том числе предприятия малого и среднего бизнеса, практически не уплачивают налоги, связанные с налогом на добавленную стоимость, не ведут полный учет своих доходов и расходов. Соответственно налоговая нагрузка распределяется внутри страны неравномерно. Крупные предприятия сохраняют рабочие места, уплачивают все виды налогов, в трудные времена обеспечивают социальную стабильность и не идут на сокращение рабочих мест. Кроме того, осуществляют поставку определенных видов товаров и услуг по сниженным ценам на внутренний рынок. Если посмотреть всю нагрузку, которая на них падает, то она достаточно высокая и превышает заявленный уровень корпоративного подоходного налога в несколько раз, – заявил Куандык Бишимбаев. Дальше он высказался еще интереснее:\\n– Хотя с точки зрения услуг, предоставляемых государством, все пользуются дорогами, бесплатной системой образования, здравоохранения и так далее. Поэтому если мы хотим дальше развивать эти системы, то, конечно, определенное повышение налоговой нагрузки должно происходить, но не за счет тех предприятий, которые уже платят налоги в полноценном режиме, а за счет тех, кто работает в упрощенном режиме…\\nЯ уже вижу, как машкевичи, ибрагимовы, шодиевы утирают скупую золотую слезу, услышав такие проникновенные слова.\\nНу а малый и средний бизнес, похоже, будет лить кровавые слезы. Выживет ли он вообще при такой налоговой нагрузке? На самом деле история, предложенная Бишимбаевым, не нова, еще у Салтыкова-Щедрина мужик трех генералов прокормил. И наши прокормят…\\nТо, что политика наполнения бюджета уже работает мегаэффективно, выжимая “последние соки” с несырьевого сектора, показывают цифры статистики.\\n– По состоянию на конец августа 2016 года налоговые поступления в госбюджет составили 3,8 триллиона тенге, увеличившись на 35,1 процента по сравнению с соответствующим периодом предыдущего года, – говорит финансист Мурат ТЕМИРХАНОВ.\\n– Природа такого взрыва налоговых поступлений понятна, – бизнесмены стали больше платить штрафов, налогов, и то ли еще будет… – говорит независимый аналитик Рахим ОКШАКБАЕВ, – выступление Бишимбаева об НДС вызывает недоумение и сильно расстраивает. Очевидно, что малый и средний бизнес обеспечивает основную занятость и нельзя повышать налоговую нагрузку. В России собираются повысить порог оборота для использования упрощенного режима, чтобы снизить налоговую нагрузку на МСБ. А у нас наоборот. Это очень негативный сигнал. Итак, в рейтинге наиболее существенных барьеров для ведения бизнеса второе место у нас занимает уровень налоговой нагрузки.\\nПонятно, что НДС – это лобби крупных сырьевых экспортеров. И сегодня политика министерства национальной экономики направлена на их поддержку.\\nМСБ наполняют бюджет, а экспортеры получают возмещение: ситуация такова, что цены на сырье упали и возврат НДС является существенной поддержкой. Но каким будет результат? Уже сейчас количество активно действующих субъектов МСБ сильно сокращается…\\nНе зарубит ли вообще на корню малый и средний бизнес инициатива Бишимбаева. Кто тогда будет платить налоги? А наш МСБ не такой уж и маленький, в нем занято более 3 миллионов человек, это треть экономически активного населения страны и сейчас они дают более 25 процентов ВВП.\\n– Вместо увеличения налоговой нагрузки на МСБ во время кризиса, я считаю, что министерство финансов должно продолжить давление на теневой бизнес, особенно на тот, который прикрывается влиятельными людьми и различными коррупционными схемами в виде лжепредприятий, – считает финансист Мурат Темирханов.\\nДо принятия законопроекта остаются считанные дни. Вопрос накален до предела. В связи с этим хочется спросить, а где же принципиальная позиция палаты предпринимателей, которая, получая взносы от бизнеса, должна его защищать?\\nАЛМАТЫ\\n                                                                                                                                                                                                                                                                                                                                                                                                                                                                                                                                                                                                                                                                                                                                                                                                                                                                                                                                                                                                                                                                                                                                                                                                                                                                                                                                                                                                                                                                                                                                                                                                                                                                                                                                                                                                                                                                                                                                                                                                                                                                                                                                                                                                                                                                                                                                                                                                                                                                                                                                                                                                                                                                                                                                                                                                                                                                                                                                                                                                                                                                                                                                                                                                                                                                                                                                                                                                                                                                                                                                                                                                                                                                                                                                                                                                                                                                                                                                                                                                                                                                                                                                                                                                                                                                                                                                                                                                                          negative\n",
              "8260  \\n \\nВ ЕНПФ назначен новый председатель правления .\\n \\n\"Единогласно председателем была избрана Нурбуби Наурызбаева\", - сказала председатель совета директоров АО \"ЕНПФ\", заместитель председателя Национального Банка РК Дина Галиева.\\n \\nРанее она занимала должность директора департамента внутреннего аудита Национального Банка.\\nИсточник: Tengrinews.kz\\n                                                                                                                                                                                                                                                                                                                                                                                                                                                                                                                                                                                                                                                                                                                                                                                                                                                                                                                                                                                                                                                                                                                                                                                                                                                                                                                                                                                                                                                                                                                                                                                                                                                                                                                                                                                                                                                                                                                                                                                                                                                                                                                                                                                                                                                                                                                                                                                                                                                                                                                                                                                                                                                                                                                                                                                                                                                                                                                                                                                                                                                                                                                                                                                                                                                                                                                                                                                                                                                                                                                                                                                                                                                                                                                                                                                                                                                                                                                                                                                                                                                                                                                                                                                                                                                                                                                                                                                                                                                                                                                                                                                                                                                                                                                                                                                                                                                                                                                                                                                                                                                                                                                                                                                                                                                                                                                                                                                                                                                                                                                                                                                                                                                                                                                                                                                                                                                                                                                                                                                                                                                                                                                                                                                                                                                                                                                                                                                                                                                                                                                                                                                                                                                                                                                                                                                                                                                                                                                                                                                                                                                                                                                                                                                                                                                                                                                                                                                                                                                                                                                                                                                                                                                                                                                                                                                                                                                                                                                                                                                                                                                                                                                                                                                                                                                                                                                                                                                                                                                                                                                                                                                                                                                                                                                                                                                                                                                                                                                                                                                                                                                                                                                                                                                                                                                                                                                                                                                                                                                                                                                                                                                                                                                                                                                                                                                                                                                                                                                                                                                                                                                                                                                                                                                                                                                                                                                                                                                                                                                                                                                                                                                                                                                                                                                                                                                                                                                                                                                                                                                                                                                                                                                                                                                                                                                                                                                                                                                                                                                                                                                                                                                                                                                                                                                                                                                                                                     neutral \n",
              "8261  В Алматы у отделения банка произошло нападение со стрельбой Сегодня, 15:34 В Алматы у отделений банков на улице Тимирязева между улицами Маркова и Байтурсынова произошло нападение на двоих мужчин. Неизвестные с огнестрельным оружием пытались вырвать сумку у одного из них. Предположительно, мужчина вышел из банка с деньгами, сообщает Informburo.kz.   «Они сцепились, – говорит охранник здания на улице Тимирязева. – Те выстрелили в воздух, потом ударили одного из мужчин по голове пистолетом. Это его кровь на асфальте. Его увезла «скорая».   На месте работают криминалисты, территория оцеплена. В здании находятся отделения банков «ВТБ» и «Сбербанк».   Очевидец ЧП рассказал, что при пострадавшем был паспорт гражданина России.   Выстрелы были слышны у бизнес-центра «Алатау Гранд». Здесь находятся филиалы банка «ВТБ» и «Сбербанка». В пресс-службе «Сбербанка» сообщили, что пострадавший не является их клиентом. В «ВТБ» пообещали дать ответ позже. \\n \\n 25 октября в Алматы неизвестные напали на охранника «Банка ЦентрКредит» и завладели его оружием. В городе объявлен спецплан «Сирена». Полиция уже начала досудебное расследование по ст. 192, ч.2 УК РК – «Разбой». На данный момент преступники не задержаны. \\n \\n Министр внутренних дел РК Калмуханбет Касымов отметил, что связи с радикалами не наблюдается. По его данным, это обычный разбой. Он добавил, что преступники проникли в отделение банка, когда охранник отлучился в туалет.   Фото: informburo.kz\\n                                                                                                                                                                                                                                                                                                                                                                                                                                                                                                                                                                                                                                                                                                                                                                                                                                                                                                                                                                                                                                                                                                                                                                                                                                                                                                                                                                                                                                                                                                                                                                                                                                                                                                                                                                                                                                                                                                                                                                                                                                                                                                                                                                                                                                                                                                                                                                                                                                                                                                                                                                                                                                                                                                                                                                                                                                                                                                                                                                                                                                                                                                                                                                                                                                                                                                                                                                                                                                                                                                                                                                                                                                                                                                                                                                                                                                                                                                                                                                                                                                                                                                                                                                                                                                                                                                                                                                                                                                                                                                                                                                                                                                                                                                                                                                                                                                                                                                                                                                                                                                                                                                                                                                                                                                                                                                                                                                                                                                                                                                                                                                                                                                                                                                                                                                                                                                                                                                                                                                                                                                                                                                                                                                                                                                                                                                                                                                                                                                                                                                                                                                                                                                                                                                                                                                                                                                                                                                                                                                                                                                                                                                                                                                                                                                                                                                                                                                                                                                                                                                                                                                                                                                                                                                                                                                                                                                                                                                                                                                                                                                                                                                                                                                                                                                                                                                                                                                                                                                                                                                                                                                                                                                                                                                                                                                                                                                                                                                                                                                                                                                                                                                                                                                                                                                                                                                                                                                                                                                                                                                                                                                                                                                                                                                                                                                                                                                                                                                                                                                                                                                                                                                                                                                                                                                                                                                                                                                                                                                                                                                                                                                                                                                                                                  negative\n",
              "8262  НПП РК «Атамекен» предлагает создать Национальный экспортный центр для продвижения казахстанских товаров на внешние рынки. \\n \\nНовая организация будет обеспечивать связь госорганов и эффективное использование инфраструктуры дипломатической службы Казахстана за рубежом для продвижения казахстанских товаров на внешние рынки. \\n \\nЭти и другие предложения и задачи Национальной палаты предпринимателей на 2017 год, а также итоги работы за 2016 год на расширенном заседании Президиума «Атамекен» озвучил заместитель Председателя Правления НПП Нуржан Альтаев. \\n \\nОн рассказал, что сегодня экспортоориентированность малого и среднего бизнеса является ключевым драйвером роста экономики Казахстана. Для отечественных предпринимателей, особенно в сфере сельского хозяйства и пищевой промышленности, открываются очень серьезные рынки сбыта в Китай, Российскую Федерацию, страны Персидского залива и Иран. \\n \\n«Создание предлагаемого Национального экспортного центра должно обеспечить связь как с госорганами, так и эффективное использование инфраструктуры дипломатической службы Казахстана за рубежом, выполняя функции по поддержке экспорта, страхования, и финансирования, а также функции АО «КазЭкспортГарант», АО «БРК», АО «KazNexInvest», АО «Фонд «Даму», Торгового представительства МНЭ РК за рубежом. При этом какой-либо госорган должен выступить единым органом, который будет отвечать за экспорт. Потому что сейчас в разных госорганах разные функции по экспорту нашей продукции, есть некая раскоординированность», — подчеркнул Нуржан Альтаев. \\n \\nНацпалата готова выступить координатором подобного центра, приняв его в доверительное управление. Альтаев отметил, что, по данным анализа рынков, экспорт казахстанской продукции в Россию может быть увеличен на 330 млн долларов, в Китай — на 680 млн долларов и страны Персидского залива — на 370 млн долларов уже в самое ближайшее время. \\n \\nА вот для продвижения отечественных товаров внутри страны и, как следствие, борьбы с безработицей зампред НПП предложил руководствоваться принципами разумного протекционизма, научившись находить компромисс с международными требованиями, не теряя из виду внутренние интересы, как это делают сегодня другие страны. \\n \\nНуржан Альтаев отметил, что в 2016 году по поручению Правительства для поддержки отечественных товаропроизводителей по госзакупкам и закупкам квазигосударственного сектора НПП созданы и действуют 16 региональных рабочих комиссий. В результате их работы по госзакупкам заключено договоров на сумму 261 млрд тенге, в квазигоссекторе рекомендовано на сумму более 993 млрд тенге и заключено на 414 млрд тенге. \\n \\n«По закупкам группы компаний Самрук-Казына для прозрачности внедрены механизм предварительного обсуждения проекта тендерной документации и институт «независимых отраслевых экспертов», которые будут участвовать при разработке проекта тендерной документации по 8 секторам (пищевая, торговля, машиностроение, обрабатывающая и другие) на сумму свыше 250 млн тенге. Также предусмотрено применение индустриального сертификата как документа, подтверждающего статус товаропроизводителя. В целом, за период совместной работы НПП РК и Самрук-Казына с 1 августа 2014 года по 1 декабря 2016 года при нашем содействии заключено более 1500 тысяч долгосрочных договоров с отечественными производителями на сумму более 500 млрд тенге», — сообщил Нуржан Альтаев. \\n \\nОн также предложил пошаговый алгоритм механизма увеличения доли местного содержания в строительстве путем внедрения пред, — и посттендерного контроля на примере пилотного проекта в Восточно-Казахстанской области. «Теперь необходимо внедрить этот механизм во всех регионах Казахстана», сказал Альтаев. \\n \\nМикрокредитование НПП пользуется спросом \\n \\nЕще одной важной задачей на будущий год зампред НПП обозначил расширение микрокредитования. Он рассказал, что с начала 2016 года «Атамекен» реализует программу микрокредитования в шести пилотных областях — это Алматинская, Актюбинская, Кызылординская, Костанайская, Мангистауская и Жамбылская. За это время на привлеченные 1,5 млрд тенге частных инвестиций и столько же от акиматов регионов профинансировано 563 заявки сельских предпринимателей на сумму 2 705 млн тенге. Благодаря этой программе НПП стабильным доходом обеспечено 2 544 человека. По итогам пилотного проекта «Атамекен» внес предложения для включения этого механизма в «Дорожную карту занятости-2020». \\n \\n«Это предложения по увеличению суммы займа до 50 млрд тенге для микрокредитования (из них 15 млрд тенге ежегодно будет фондироваться через микрофинансовые организации), увеличению сумма займа с млн до 16 млн тенге, срока кредита с 5 до 7 лет, а также гарантированию кредитов и субсидированию операционных затрат МФО в размере 16% от суммы освоения. Практически все эти предложения вошли в проект новой программы занятости. С учетом наработанного опыта «Атамекен» через свою систему микрокредитования готов освоить в 2017 году 10 млрд тенге из общего объема сумм, направляемых по поручению Главы государства», — сообщил Нуржан Альтаев. \\n \\nГоворя об обеспечении доступности финансов, инфраструктуры и рынков сбыта и итогах работы НПП в этом направлении, Альтаев отметил, что в 2016 году государством были выделены дополнительное 200 млрд тенге за счет средств АО «ЕНПФ» на пополнение оборотных средств и рефинансирование текущих обязательств МСП, увеличена предельная ставка субсидирования от 14% до 19% годовых, установлена плавающая ставка в зависимости от базовой ставки Нацбанка. «А также было включено субсидирование проектов ГЧП, дополнительное субсидирование кредитов на пополнение оборотных средств, кредитов, выданных за счет средств, привлеченных от международных финансовых институтов. Кроме того, сняты отраслевые ограничения на субсидирование ставки вознаграждения по новым микрокредитам, выдаваемым на реализацию проектов субъектам малого предпринимательства в сельских населенных пунктах, малых городах и моногородах», — подчеркнул он. \\n \\nНа перспективу у НПП имеются инициативы по государственным программам. К примеру, Нацпалата предлагает внедрить механизм субсидирования купонного вознаграждения по выпущенным облигациям, исключить из «ДКБ-2020» либо пересмотреть понятие «эффективный проект», что сейчас является серьезным барьером, а также обеспечить оптимальную ставку предоставления оборотных средств на уровне не выше 12%, на инвестиционные цели — не выше 7%. И, что немаловажно, следует продолжить работу по устранению гибких трактовок и арбитража для проверяющих органов в отношении предприятий, участвующих в госпрограммах. \\n \\nЗнания нужны всем \\n \\nОтдельное внимание в ходе своего выступления Нуржан Альтаев уделил подготовке предпринимателей и рабочих кадров, которые востребованы сегодня бизнесом. Он отметил, что в Казахстане имеется огромный потенциал развития аграрной сферы, однако мы сильно отстаем от передовых стран по таким ключевым показателям, как производительность труда, урожайность и продуктивность. Для решения этих фундаментальных задач НПП возложила на себя миссию по повышению компетенции отечественных аграриев. \\n \\n«Благодаря разветвленной сети НПП совместно с Министерством сельского хозяйства организована эффективная обратная связь с фермерами и мы начали работу по повышению агрокомпетенций. НПП заключила договоры с Министерством сельского хозяйства на сумму 1,1 млрд тенге на обучение аграриев. Проведено 668 обучающих семинаров для сельхозтоваропроизводителей по 25-ти основным направлениям АПК. Мы обучили около 11 тысяч фермеров», — рассказал Альтаев. \\n \\nОн отметил, что в ходе обучения был достигнут хороший результат, и попросил Правительство не снижать уровень финансирования. \\n \\nВ рамках действующей программы «Дорожная карта занятости-2020» НПП бесплатно обучила основам предпринимательства на базе ЦОП/ЦПП более 3 тысяч человек. \\n \\n«Важным стратегическим приоритетом является развитие человеческого капитала. В этом году впервые в законодательство Казахстана внедрено понятие дуального обучения, ранее было разное понимание этого. Мы определили в текущем году необходимость предприятий в кадрах, опросили более 7 тысяч предприятий и увидели, что она составляет 134 тыс. И сейчас уже работаем с Министерством образования и организациями образования по их подготовке», — сообщил Нуржан Альтаев. \\n \\nКроме того, НПП были созданы 63 учебных центра при предприятиях, и 22 из них участвуют в программе госзаказа, на их базе прошли переподготовку и повышение квалификации около 2000 человек. \\n \\nИзменений в структуре госсобственности не произошло \\n \\nОдной из приоритетных задач Нуржан Альтаев обозначил обеспечение интересов бизнеса в процессе приватизации и развитие ГЧП. Он доложил, что в рамках проведенной работы представители НПП РК вошли в состав Проектных офисов АО «НУХ «Казагро» и МФРК, достигнута договоренность по включению в Проектный офис АО «ФНБ «Самрук-Казына», устранены законодательные барьеры по привлечению участников отечественного Рынка ценных бумаг в приватизации крупных объектов. Госорганами и МИО при активном участии НПП РК завершен первый этап инвентаризации, в результате решено передать в конкурентную среду 51 организацию республиканской собственности и 454 организации коммунальной собственности. \\n \\n«Но стоит обратить внимание, что, несмотря на законодательные изменения и масштабную работу по разгосударствлению, значительных изменений в структуре государственной собственности не произошло. В этой связи нами предлагается ряд мер. В частности, проработать унифицированные посекторальные подходы, включающие четкие критерии разгосударствления. На основе принципов yellow pages определить сектора экономики, в которых присутствие государства не является необходимым, пересмотреть и сократить виды деятельности государственных предприятий. Тажке предлагаем сделать приоритет для доверительного управления, упроститьпроцедуры в сфере ГЧП и проработать практику долгосрочных конрактов, долгосрочного госзаказа», — заявил Альтаев. \\n \\nОн подчеркнул, что в рамках поручения Главы государства необходимо снизить долю участия государства в экономике страны до 15% к 2020 году, однако сейчас еще более 50% ВВП — это размер активов квазигосударственного сектора, доля государства уменьшилась всего на 0,3%. \\n \\nЦифры и факты 2016-го \\n \\nПодводя итоги работы в 2016 году Нуржан Альтаев сообщил, что Национальной палате предпринимателей удалось положительно решить 40% из числа обращений предпринимателей. В результате, общая сумма защищенных имущественных прав составила 41,7 млрд тенге. Наибольшее число обращений МСБ касается налогообложения и действий налоговых органов, на втором месте — это земельные вопросы 13%, на третьем — сфера закупок. \\n \\nВ Реестр проблемных вопросов включено 438 системных вопроса, из них 285 (или 65%) решены. Наибольшее количество проблемных вопросов приходится на сферу строительства, транспорта, логистику и связь, а также медицинскую и фармацевтическую промышленность. \\n \\nЗа 11 месяцев 2016 года Национальной палатой проведена экспертиза в отношении более двух тысяч проектов НПА, по 86% из которых госорганы учли замечания НПП. \\n \\nС марта по ноябрь 2016 года вебсайт Региональной карты развития предпринимательства просмотрели более пятиста тысяч уникальных посетителей. Просмотрено более двух 2 млн страниц, ежедневно на сайт заходят более 10 тысяч посетителей из РК, РФ, Украины, США, Беларуси, Китая, Германии и других стран. \\n \\nВ заключение зампред НПП предложил реализовать по аналогии с сервисом «Правительством для граждан» идею «Правительство для бизнеса». Новая площадка объединяла бы все меры поддержки бизнеса в одном «окне» и способствовала бы ликвидации барьеров, которые есть на пути предпринимателей. \\n \\nИсточник: palata.kz \\n\\nПо сообщению сайта Матрица.kz\\n  neutral \n",
              "\n",
              "[8263 rows x 2 columns]"
            ]
          },
          "metadata": {
            "tags": []
          },
          "execution_count": 0
        }
      ]
    },
    {
      "cell_type": "code",
      "metadata": {
        "colab": {
          "background_save": true
        },
        "id": "bMQ-hDAzwsi6",
        "outputId": "5a6d1553-a799-4868-ff09-c44e9bc85b1c"
      },
      "source": [
        "def make_training_test_sets(data):\n",
        "    \n",
        "    data_shuffled = data.iloc[np.random.permutation(len(data))]\n",
        "    data_shuffled = data_shuffled.reset_index(drop=True)\n",
        "    \n",
        "    data_shuffled.News = data_shuffled.News.apply(lambda tweet: \"\".join(tweet))\n",
        "    \n",
        "    positive_data = data_shuffled[data_shuffled.sentiment == 'positive']\n",
        "    negative_data = data_shuffled[data_shuffled.sentiment == 'negative']\n",
        "\n",
        "    \n",
        "    positive_data_cutoff = int(len(positive_data) * (3./4.))\n",
        "    negative_data_cutoff = int(len(negative_data) * (3./4.))\n",
        "\n",
        "    \n",
        "    training_data = pd.concat([positive_data[:positive_data_cutoff], negative_data[:negative_data_cutoff]])\n",
        "    test_data = pd.concat([positive_data[positive_data_cutoff:], negative_data[negative_data_cutoff:]])\n",
        "\n",
        "    \n",
        "    training_data = training_data.iloc[np.random.permutation(len(training_data))].reset_index(drop=True)\n",
        "    test_data = test_data.iloc[np.random.permutation(len(test_data))].reset_index(drop=True)\n",
        "    \n",
        "    return training_data, test_data\n",
        "\n",
        "training_data, test_data = make_training_test_sets(data)\n",
        "\n",
        "print (\"size of training set: \" + str(len(training_data)))\n",
        "print (\"size of test set: \" + str(len(test_data)))"
      ],
      "execution_count": null,
      "outputs": [
        {
          "output_type": "stream",
          "text": [
            "size of training set: 3171\n",
            "size of test set: 1058\n"
          ],
          "name": "stdout"
        }
      ]
    },
    {
      "cell_type": "code",
      "metadata": {
        "colab": {
          "background_save": true
        },
        "id": "i99WQWOJGef8"
      },
      "source": [
        "from sklearn.model_selection import KFold\n",
        "# from sklearn.cross_validation import KFold - depricated\n",
        "from sklearn.metrics import confusion_matrix, f1_score\n",
        "from sklearn.feature_extraction.text import CountVectorizer\n",
        "from sklearn.naive_bayes import MultinomialNB\n",
        "from sklearn import preprocessing\n",
        "import re\n"
      ],
      "execution_count": null,
      "outputs": []
    },
    {
      "cell_type": "code",
      "metadata": {
        "colab": {
          "background_save": true
        },
        "id": "HJlRnPODsavm",
        "outputId": "808fb529-05d3-4699-b2a4-1f2ff5060916"
      },
      "source": [
        "\n",
        "def classify(training_data, test_data, ngram=(1, 1)):\n",
        "    \n",
        "    scores = []\n",
        "\n",
        "    k_fold = KFold(n_splits=10)\n",
        "\n",
        "    \n",
        "    count_vectorizer = CountVectorizer(ngram_range=ngram)\n",
        "\n",
        "    training_data.sentiment = training_data.sentiment.replace('negative',0)\n",
        "    training_data.sentiment = training_data.sentiment.replace('positive',1)\n",
        "\n",
        "    confusion = np.array([[0, 0], [0, 0]])\n",
        "\n",
        "    for training_indices, validation_indices in k_fold.split(training_data):\n",
        "\n",
        "        training_features = count_vectorizer.fit_transform(training_data.iloc[training_indices]['News'])\n",
        "        training_labels = training_data.iloc[training_indices]['sentiment'].values\n",
        "\n",
        "        validation_features = count_vectorizer.transform(training_data.iloc[validation_indices]['News'].values)\n",
        "\n",
        "        validation_labels = training_data.iloc[validation_indices]['sentiment'].values\n",
        "\n",
        "        classifier = MultinomialNB()\n",
        "        classifier.fit(training_features, training_labels)\n",
        "        validation_predictions = classifier.predict(validation_features)\n",
        "\n",
        "        confusion += confusion_matrix(validation_labels, validation_predictions)\n",
        "\n",
        "\n",
        "        score = f1_score(validation_labels, validation_predictions)\n",
        "        scores.append(score)\n",
        "    \n",
        "    return (sum(scores) / len(scores)), confusion\n",
        "\n",
        "score, confusion = classify(training_data, test_data)\n",
        "\n",
        "print ('Total classified: ', len(training_data))\n",
        "print ( 'Score: ',score)\n",
        "print ('Confusion matrix:')\n",
        "print(confusion)"
      ],
      "execution_count": null,
      "outputs": [
        {
          "output_type": "stream",
          "text": [
            "Total classified:  3171\n",
            "Score:  0.9222334985668847\n",
            "Confusion matrix:\n",
            "[[ 922  153]\n",
            " [ 171 1925]]\n"
          ],
          "name": "stdout"
        }
      ]
    },
    {
      "cell_type": "code",
      "metadata": {
        "colab": {
          "background_save": true
        },
        "id": "VNvMep81e_g0"
      },
      "source": [
        "%matplotlib inline\n",
        "from matplotlib import pyplot as plt"
      ],
      "execution_count": null,
      "outputs": []
    },
    {
      "cell_type": "code",
      "metadata": {
        "colab": {
          "background_save": true
        },
        "id": "dKUsmxfQe3E5",
        "outputId": "f4d9a17f-84c6-4faf-ea5c-404fde5d2a4e"
      },
      "source": [
        "labels = ['Positive', 'Negative']\n",
        "def plot_confusion_matrix(cm, labels, title='Confusion matrix', cmap=plt.cm.Blues):\n",
        "    plt.imshow(cm, interpolation='nearest', cmap=cmap)\n",
        "    plt.title(title)\n",
        "    plt.colorbar()\n",
        "    tick_marks = np.arange(len(labels))\n",
        "    plt.xticks(tick_marks, labels, rotation=45)\n",
        "    plt.yticks(tick_marks, labels)\n",
        "    plt.tight_layout()\n",
        "    plt.ylabel('True label')\n",
        "    plt.xlabel('Predicted label')\n",
        "    \n",
        "print ('Confusion matrix without normalization')\n",
        "plt.figure()\n",
        " "
      ],
      "execution_count": null,
      "outputs": [
        {
          "output_type": "stream",
          "text": [
            "Confusion matrix without normalization\n"
          ],
          "name": "stdout"
        },
        {
          "output_type": "execute_result",
          "data": {
            "text/plain": [
              "<Figure size 432x288 with 0 Axes>"
            ]
          },
          "metadata": {
            "tags": []
          },
          "execution_count": 0
        },
        {
          "output_type": "display_data",
          "data": {
            "text/plain": [
              "<Figure size 432x288 with 0 Axes>"
            ]
          },
          "metadata": {
            "tags": []
          }
        }
      ]
    },
    {
      "cell_type": "markdown",
      "metadata": {
        "id": "dTjWYmp5jd2U"
      },
      "source": [
        "## Применяем биграммы"
      ]
    },
    {
      "cell_type": "code",
      "metadata": {
        "colab": {
          "background_save": true
        },
        "id": "C5mM0vhJhruJ",
        "outputId": "807fa5bc-262d-41cb-a38a-913bb050ec01"
      },
      "source": [
        "\n",
        "score, confusion = classify(training_data, test_data, (1, 1))\n",
        "\n",
        "print ('Total classified: ' ,len(training_data))\n",
        "print ('Score: ' ,  score)\n",
        "print ('Confusion matrix:')\n",
        "print(confusion)\n",
        "\n",
        "plot_confusion_matrix(confusion, labels)"
      ],
      "execution_count": null,
      "outputs": [
        {
          "output_type": "stream",
          "text": [
            "Total classified:  3171\n",
            "Score:  0.9338233619613684\n",
            "Confusion matrix:\n",
            "[[ 902  173]\n",
            " [ 108 1988]]\n"
          ],
          "name": "stdout"
        },
        {
          "output_type": "display_data",
          "data": {
            "image/png": "[encoded data removed]",
            "text/plain": [
              "<Figure size 432x288 with 2 Axes>"
            ]
          },
          "metadata": {
            "tags": []
          }
        }
      ]
    },
    {
      "cell_type": "markdown",
      "metadata": {
        "id": "5t2a_JiYjBqc"
      },
      "source": [
        "## Препроцессинг текста\n"
      ]
    },
    {
      "cell_type": "markdown",
      "metadata": {
        "id": "8a50K9aw6-Sf"
      },
      "source": [
        "Минус Эмоджи (кто знает, а вдруг)"
      ]
    },
    {
      "cell_type": "code",
      "metadata": {
        "colab": {
          "background_save": true
        },
        "id": "NUfJN4NYuBik"
      },
      "source": [
        "# избавляемся от эможди\n",
        "emoji_pattern = re.compile(\"[\"\n",
        "                u\"\\U0001F600-\\U0001F64F\"  # emoticons\n",
        "                u\"\\U0001F300-\\U0001F5FF\"  # symbols & pictographs\n",
        "                u\"\\U0001F680-\\U0001F6FF\"  # transport & map symbols\n",
        "                u\"\\U0001F1E0-\\U0001F1FF\"  \n",
        "                u\"\\U00002702-\\U000027B0\"\n",
        "                u\"\\U000024C2-\\U0001F251\"\n",
        "                u\"\\U0001f926-\\U0001f937\"\n",
        "                u'\\U00010000-\\U0010ffff'\n",
        "                u\"\\u200d\"\n",
        "                u\"\\u2640-\\u2642\"\n",
        "                u\"\\u2600-\\u2B55\"\n",
        "                u\"\\u23cf\"\n",
        "                u\"\\u23e9\"\n",
        "                u\"\\u231a\"\n",
        "                u\"\\u3030\"\n",
        "                u\"\\ufe0f\"\n",
        "    \"]+\", flags=re.UNICODE)\n",
        "\n",
        "def remove_emoji(string):\n",
        "    return emoji_pattern.sub(r'', string)"
      ],
      "execution_count": null,
      "outputs": []
    },
    {
      "cell_type": "code",
      "metadata": {
        "colab": {
          "background_save": true
        },
        "id": "KTfgPwj_aL85"
      },
      "source": [
        "#токенизируем\n",
        "def no_emoji_tokenize(string):\n",
        "  words = word_tokenize(string)\n",
        "  return map(remove_emoji, words)\n",
        "  \n",
        "def ru_token(string):\n",
        "    \"\"\"russian tokenize based on nltk.word_tokenize. only russian letter remaind.\"\"\"\n",
        "    return [i.lower() for i in no_emoji_tokenize(string) if re.match(r'[\\u0400-\\u04ffа́]+$', i)]"
      ],
      "execution_count": null,
      "outputs": []
    },
    {
      "cell_type": "code",
      "metadata": {
        "colab": {
          "background_save": true
        },
        "id": "cVk3CcYYaL6L"
      },
      "source": [
        "data_df = raw_df.copy()\n",
        "data_df['text'] = raw_df['text'].apply(ru_token)"
      ],
      "execution_count": null,
      "outputs": []
    },
    {
      "cell_type": "markdown",
      "metadata": {
        "id": "eFe7CMVA7Y51"
      },
      "source": [
        "Посмотрим на текущий вид данных"
      ]
    },
    {
      "cell_type": "code",
      "metadata": {
        "colab": {
          "background_save": true
        },
        "id": "si0enlkNDG7a",
        "outputId": "d087d3e2-df0b-4bae-9a4e-24cc412b52eb"
      },
      "source": [
        "data_df.head(10)"
      ],
      "execution_count": null,
      "outputs": [
        {
          "output_type": "error",
          "ename": "ImportError",
          "evalue": "ignored",
          "traceback": [
            "\u001b[0;31m---------------------------------------------------------------------------\u001b[0m",
            "\u001b[0;31mImportError\u001b[0m                               Traceback (most recent call last)",
            "\u001b[0;32m/usr/local/lib/python3.7/dist-packages/IPython/core/formatters.py\u001b[0m in \u001b[0;36m__call__\u001b[0;34m(self, obj)\u001b[0m\n\u001b[1;32m    336\u001b[0m             \u001b[0mmethod\u001b[0m \u001b[0;34m=\u001b[0m \u001b[0mget_real_method\u001b[0m\u001b[0;34m(\u001b[0m\u001b[0mobj\u001b[0m\u001b[0;34m,\u001b[0m \u001b[0mself\u001b[0m\u001b[0;34m.\u001b[0m\u001b[0mprint_method\u001b[0m\u001b[0;34m)\u001b[0m\u001b[0;34m\u001b[0m\u001b[0;34m\u001b[0m\u001b[0m\n\u001b[1;32m    337\u001b[0m             \u001b[0;32mif\u001b[0m \u001b[0mmethod\u001b[0m \u001b[0;32mis\u001b[0m \u001b[0;32mnot\u001b[0m \u001b[0;32mNone\u001b[0m\u001b[0;34m:\u001b[0m\u001b[0;34m\u001b[0m\u001b[0;34m\u001b[0m\u001b[0m\n\u001b[0;32m--> 338\u001b[0;31m                 \u001b[0;32mreturn\u001b[0m \u001b[0mmethod\u001b[0m\u001b[0;34m(\u001b[0m\u001b[0;34m)\u001b[0m\u001b[0;34m\u001b[0m\u001b[0;34m\u001b[0m\u001b[0m\n\u001b[0m\u001b[1;32m    339\u001b[0m             \u001b[0;32mreturn\u001b[0m \u001b[0;32mNone\u001b[0m\u001b[0;34m\u001b[0m\u001b[0;34m\u001b[0m\u001b[0m\n\u001b[1;32m    340\u001b[0m         \u001b[0;32melse\u001b[0m\u001b[0;34m:\u001b[0m\u001b[0;34m\u001b[0m\u001b[0;34m\u001b[0m\u001b[0m\n",
            "\u001b[0;32m/usr/local/lib/python3.7/dist-packages/pandas/core/frame.py\u001b[0m in \u001b[0;36m_repr_html_\u001b[0;34m(self)\u001b[0m\n\u001b[1;32m    796\u001b[0m         \u001b[0;32mreturn\u001b[0m \u001b[0mStyler\u001b[0m\u001b[0;34m(\u001b[0m\u001b[0mself\u001b[0m\u001b[0;34m)\u001b[0m\u001b[0;34m\u001b[0m\u001b[0;34m\u001b[0m\u001b[0m\n\u001b[1;32m    797\u001b[0m \u001b[0;34m\u001b[0m\u001b[0m\n\u001b[0;32m--> 798\u001b[0;31m     _shared_docs[\n\u001b[0m\u001b[1;32m    799\u001b[0m         \u001b[0;34m\"items\"\u001b[0m\u001b[0;34m\u001b[0m\u001b[0;34m\u001b[0m\u001b[0m\n\u001b[1;32m    800\u001b[0m     ] = r\"\"\"\n",
            "\u001b[0;32m/usr/local/lib/python3.7/dist-packages/pandas/io/formats/format.py\u001b[0m in \u001b[0;36mto_html\u001b[0;34m(self, buf, encoding, classes, notebook, border)\u001b[0m\n\u001b[1;32m    983\u001b[0m     \u001b[0mleading_space\u001b[0m \u001b[0;34m:\u001b[0m \u001b[0mbool\u001b[0m\u001b[0;34m,\u001b[0m \u001b[0moptional\u001b[0m\u001b[0;34m\u001b[0m\u001b[0;34m\u001b[0m\u001b[0m\n\u001b[1;32m    984\u001b[0m         \u001b[0mWhether\u001b[0m \u001b[0mthe\u001b[0m \u001b[0marray\u001b[0m \u001b[0mshould\u001b[0m \u001b[0mbe\u001b[0m \u001b[0mformatted\u001b[0m \u001b[0;32mwith\u001b[0m \u001b[0ma\u001b[0m \u001b[0mleading\u001b[0m \u001b[0mspace\u001b[0m\u001b[0;34m.\u001b[0m\u001b[0;34m\u001b[0m\u001b[0;34m\u001b[0m\u001b[0m\n\u001b[0;32m--> 985\u001b[0;31m         \u001b[0mWhen\u001b[0m \u001b[0man\u001b[0m \u001b[0marray\u001b[0m \u001b[0;32mas\u001b[0m \u001b[0ma\u001b[0m \u001b[0mcolumn\u001b[0m \u001b[0mof\u001b[0m \u001b[0ma\u001b[0m \u001b[0mSeries\u001b[0m \u001b[0;32mor\u001b[0m \u001b[0mDataFrame\u001b[0m\u001b[0;34m,\u001b[0m \u001b[0mwe\u001b[0m \u001b[0mdo\u001b[0m \u001b[0mwant\u001b[0m\u001b[0;34m\u001b[0m\u001b[0;34m\u001b[0m\u001b[0m\n\u001b[0m\u001b[1;32m    986\u001b[0m         \u001b[0mthe\u001b[0m \u001b[0mleading\u001b[0m \u001b[0mspace\u001b[0m \u001b[0mto\u001b[0m \u001b[0mpad\u001b[0m \u001b[0mbetween\u001b[0m \u001b[0mcolumns\u001b[0m\u001b[0;34m.\u001b[0m\u001b[0;34m\u001b[0m\u001b[0;34m\u001b[0m\u001b[0m\n\u001b[1;32m    987\u001b[0m \u001b[0;34m\u001b[0m\u001b[0m\n",
            "\u001b[0;32m/usr/local/lib/python3.7/dist-packages/pandas/io/formats/html.py\u001b[0m in \u001b[0;36m<module>\u001b[0;34m()\u001b[0m\n\u001b[1;32m     13\u001b[0m \u001b[0;32mfrom\u001b[0m \u001b[0mpandas\u001b[0m \u001b[0;32mimport\u001b[0m \u001b[0moption_context\u001b[0m\u001b[0;34m\u001b[0m\u001b[0;34m\u001b[0m\u001b[0m\n\u001b[1;32m     14\u001b[0m \u001b[0;34m\u001b[0m\u001b[0m\n\u001b[0;32m---> 15\u001b[0;31m \u001b[0;32mfrom\u001b[0m \u001b[0mpandas\u001b[0m\u001b[0;34m.\u001b[0m\u001b[0mio\u001b[0m\u001b[0;34m.\u001b[0m\u001b[0mcommon\u001b[0m \u001b[0;32mimport\u001b[0m \u001b[0m_is_url\u001b[0m\u001b[0;34m\u001b[0m\u001b[0;34m\u001b[0m\u001b[0m\n\u001b[0m\u001b[1;32m     16\u001b[0m from pandas.io.formats.format import (\n\u001b[1;32m     17\u001b[0m     \u001b[0mDataFrameFormatter\u001b[0m\u001b[0;34m,\u001b[0m\u001b[0;34m\u001b[0m\u001b[0;34m\u001b[0m\u001b[0m\n",
            "\u001b[0;31mImportError\u001b[0m: cannot import name '_is_url' from 'pandas.io.common' (/usr/local/lib/python3.7/dist-packages/pandas/io/common.py)"
          ]
        },
        {
          "output_type": "execute_result",
          "data": {
            "text/plain": [
              "                                                                                                                                                                                                                                                                                                                                                                                                                                                                                                                                                                                                                                                                                                                                                                                                                                                                                                                                                                                                 text sentiment\n",
              "0  [досудебное, расследование, по, факту, покупки, енпф, пакета, облигаций, тоо, бузгул, аурум, было, начато, по, инициативе, национального, банка, рк, сообщил, директор, департамента, защиты, прав, потребителей, и, финансовых, услуг, нацбанка, казахстана, александр, терентьев, основанием, для, досудебного, расследования, стало, обращение, национального, банка, письмо, от, ноября, года, было, обращение, национального, банка, в, правоохранительные, органы, нам, эта, сделка, показалась, сомнительной, недостаточно, корректной, поэтому, нацбанк, ноября, года, обратился, в, правоохранительные, органы, это, то, что, я, могу, озвучить, на, сегодня, идёт, следствие, проводится, проверка, сказал, терентьев, декабря, в, нацбанке, заявили, что, не, знают, что, стало, основанием, для, проверки, енпф, декабря, факт, проведения, проверки, в, ао, единый, накопительный, ...]                                                                                                negative\n",
              "1  [медики, рассказали, о, состоянии, пострадавшего, мужчины, на, которого, было, совершено, нападение, возле, отделения, банка, по, тимирязева, как, прокомментировали, в, управления, здравоохранения, алматы, с, места, происшествия, в, службу, скорой, помощи, обратились, двое, человек, одному, из, них, на, месте, была, оказана, медицинская, помощь, от, госпитализации, он, отказался, второй, пациент, был, доставлен, в, больницу, скорой, неотложной, помощи, бснп, с, сотрясением, головного, мозга, ушибленной, раной, головы, состояние, на, данный, момент, оценивается, ближе, к, удовлетворительному, пока, он, проходит, обследование, в, больнице, сообщили, в, управлении, здравоохранения, алматы, напомним, в, алматы, на, пересечении, улиц, тимирязева, и, маркова, возле, бц, алатау, гранд, произошла, стрельба, ориентировочно, в, обеденное, время, ...]                                                                                                                negative\n",
              "2  [прошел, почти, год, как, железнодорожным, операторам, запретили, эксплуатировать, вагоны, с, продленным, сроком, службы, всего, за, было, списано, около, вагонов, больше, всего, списала, первая, грузовая, компания, владимира, лисина, более, вагонов, федеральная, грузовая, компания, фгк, дочерняя, структура, ржд, около, вагонов, с, одной, стороны, списание, вагонов, приведет, к, постепенному, восстановлению, арендной, ставки, что, будет, способствовать, росту, инвестиционной, привлекательности, покупки, новых, вагонов, и, повысит, спрос, на, них, стимулируя, положительную, динамику, производства, в, отрасли, говорится, в, мониторинге, ситуации, в, экономике, россии, в, январе, ноябре, подготовленном, минэкономразвития, с, другой, стороны, сокращение, вагонного, парка, за, счет, старых, вагонов, и, его, обновление, новыми, приведет, к, стремлению, быстрее, окупить, ...]                                                                                   negative\n",
              "3  [по, итогам, месяцев, года, на, территории, республики, выпущено, единиц, автотранспортных, средств, на, сумму, млрд, тенге, что, на, ниже, результата, годичной, давности, в, натуральном, выражении, об, этом, в, союзе, предприятий, автомобильной, отрасли, казахстана, казавтопром, единиц, пришлось, на, легковую, технику, минус, к, аналогичному, значению, года, выпуск, грузовых, автомобилей, на, казахстанских, предприятиях, по, итогам, месяцев, года, вырос, на, и, достиг, производство, автобусной, техники, в, отчетный, период, увеличилось, на, до, отметки, единицы, основным, фактором, сокращения, производственных, показателей, автопрома, в, гг, стал, резкий, спад, рыночной, активности, так, по, итогам, месяцев, года, официальными, дилерами, реализовано, средств, всех, категорий, против, тыс, единиц, в, году, падение, на, говорится, ...]                                                                                                                      negative\n",
              "4  [астана, ноября, агентство, рк, по, делам, государственной, службы, и, противодействию, коррупции, выражает, обеспокоенность, участившимися, фактами, коррупции, в, квазигосударственном, секторе, сообщила, ведомства, согласно, сообщению, в, результате, мониторинга, агентством, выявлены, серьезные, коррупционные, риски, в, квазигосударственном, секторе, анализ, показал, рост, коррупционных, правонарушений, в, данном, направлении, почти, в, раза, по, сравнению, с, прошлым, годом, с, до, в, этой, сфере, в, основном, преобладают, факты, хищения, злоупотребления, должностными, полномочиями, взяточничество, при, осуществлении, закупок, и, реализации, госпрограмм, передает, в, ведомстве, напомнили, что, антикоррупционной, службой, изобличены, зампредседателя, правления, ао, байтерек, джакупов, руководитель, дирекции, по, реализации, госпрограмм, айтимбетов, управляющий, директор, сариев, которые, наладили, преступную, схему, по, получению, взяток, от, ...]  negative\n",
              "5  [об, аресте, бывшего, министра, национальной, экономики, казахстана, куандыка, бишимбаева, сроком, на, два, месяца, сегодня, азаттыку, сообщили, в, городского, суда, астаны, вчера, истек, срок, в, течение, которого, следствие, должно, предъявить, ему, обвинение, а, процессуальный, суд, санкционировать, меру, пресечения, ранее, сегодня, национального, бюро, по, противодействию, коррупции, сообщила, что, судом, алматинского, района, астаны, января, в, отношении, куандыка, бишимбаева, избрана, мера, пресечения, арест, о, задержании, бишимбаева, по, подозрению, в, получении, взяток, стало, известно, января, его, водворили, в, изолятор, временного, содержания, двд, астаны, в, антикоррупционной, службе, заявили, что, бывший, министр, задержан, по, факту, неоднократного, получения, взяток, в, особо, крупном, размере, в, группе, лиц, по, предварительному, ...]                                                                                                    negative\n",
              "6  [двое, налетчиков, совершили, нападение, на, охранника, банка, центркредит, в, алматы, и, завладели, его, оружием, сообщает, двд, алматы, сегодня, в, в, центр, оперативного, управления, двд, города, алматы, поступило, сообщение, о, нападении, на, охранника, одного, из, отделений, банка, центркредит, в, алмалинском, районе, алматы, в, результате, чего, двое, неустановленных, лиц, завладели, его, оружием, говорится, в, сообщении, по, неподтвержденным, данным, чрезвычайное, происшествие, случилось, в, отделении, которое, находится, на, улице, маметовой, между, улицами, сейфуллина, и, дзержинского, как, информирует, ведомство, в, настоящее, время, по, городу, объявлен, спецплан, сирена, отрабатывается, комплекс, оперативных, мероприятий, которые, направлены, на, розыск, и, задержание, преступников]                                                                                                                                                               negative\n",
              "7  [в, квартале, почти, вдвое, снизила, чистую, прибыль, по, мсфо, астана, мая, ао, в, года, получило, чистую, прибыль, в, размере, млрд, тенге, что, в, раза, меньше, чем, в, первом, квартале, года, говорится, в, консолидированной, финотчетности, компании, по, мсфо, для, получения, полных, текстов, публикаций, воспользуйтесь, платной, подпиской]                                                                                                                                                                                                                                                                                                                                                                                                                                                                                                                                                                                                                                            negative\n",
              "8  [в, году, почти, половина, коррупционных, преступлений, в, системе, вооруженных, сил, рк, выявлено, в, местных, органах, военного, управления, из, них, больше, всего, зарегистрировано, взяток, при, выдаче, военных, билетов, и, по, предоставлению, отсрочки, от, призыва, на, воинскую, службу, об, этом, сообщается, в, ответе, министерства, обороны, рк, на, официальный, запрос, казинформ, всего, как, отмечают, в, ведомстве, за, месяцев, года, за, вооруженными, силами, мо, рк, зарегистрировано, коррупционных, преступления, в, сравнении, с, аналогичным, периодом, года, данный, показатель, снизился, на, или, с, фактов, до, а, коррупционных, правонарушений, на, с, до, несмотря, на, положительную, динамику, и, принимаемые, меры, продолжает, вызывать, обеспокоенность, уровень, коррупции, в, местных, органах, военного, ...]                                                                                                                                            negative\n",
              "9  [чт, янв, один, из, фигурантов, дела, о, коррупции, в, ао, байтерек, управляющий, директор, компании, дильрух, анарбай, в, году, был, осуждён, по, статье, ук, рк, в, старой, редакции, заведомо, ложное, сообщение, об, акте, терроризма, за, неудачную, шутку, о, поясе, шахида, на, борту, самолета, в, астане, он, был, приговорён, к, трём, годам, колонии, сообщает, дильрух, анарбай, года, рождения, уроженец, жамбылской, области, женат, имеет, высшее, образование, в, разные, годы, работал, в, министерстве, юстиции, рк, однако, в, году, на, момент, получения, судимости, в, документации, к, делу, числился, безработным, как, стало, известно, из, приговора, апреля, года, дильрух, анарбай, будучи, пьяным, в, ресторана, пивница, совершил, звонок, ...]                                                                                                                                                                                                                       negative"
            ]
          },
          "metadata": {
            "tags": []
          },
          "execution_count": 0
        }
      ]
    },
    {
      "cell_type": "markdown",
      "metadata": {
        "id": "34zbfzyyjUmt"
      },
      "source": [
        "### Разделение слипшихся слов.\n"
      ]
    },
    {
      "cell_type": "markdown",
      "metadata": {
        "id": "Xg-NaTxv8oR1"
      },
      "source": [
        "\n",
        "Мы будем использовать частотный словарь русского корпуса.\n",
        "Будем проходить по словам в данных. Если находим слово, которое не существует в словаре, будем делить его на части полным перебором. При каждом разделении вычисляем ве\n",
        "яроятность того, что данное разделение возможно, основываясь на частотных вероятностях полученных частей слова. В итоге выбираем разделение наиболее вероятное.\n",
        "\n",
        "Для ускорения процесса будем кешировать данные."
      ]
    },
    {
      "cell_type": "markdown",
      "metadata": {
        "id": "iXvl1KT7-HsB"
      },
      "source": [
        "Скачиваем корпус русского языка\n"
      ]
    },
    {
      "cell_type": "code",
      "metadata": {
        "colab": {
          "background_save": true
        },
        "id": "SG9-yeqXv60i",
        "outputId": "8472cb5a-b8c8-4c6f-9c58-57f262ee76b7"
      },
      "source": [
        "if not os.path.isfile('./corpus/1grams-3.txt'):\n",
        "  if not os.path.exists('./corpus'):\n",
        "    os.makedirs('./corpus')\n",
        "  print(\"Скачивание архива с файлом, содержащим частоты словоформ.\")\n",
        "  import urllib.request\n",
        "  import zipfile\n",
        "  url = 'http://www.ruscorpora.ru/ngrams/1grams-3.zip'  \n",
        "  urllib.request.urlretrieve(url, './corpus/1grams-3.zip')\n",
        "  with zipfile.ZipFile('./corpus/1grams-3.zip','r') as zip_ref:\n",
        "    zip_ref.extractall('./corpus/')\n",
        "  os.remove('./corpus/1grams-3.zip')\n",
        "  print(\"Скачивание окончено.\")\n",
        "  "
      ],
      "execution_count": null,
      "outputs": [
        {
          "output_type": "stream",
          "text": [
            "Скачивание архива с файлом, содержащим частоты словоформ.\n",
            "Скачивание окончено.\n"
          ],
          "name": "stdout"
        }
      ]
    },
    {
      "cell_type": "code",
      "metadata": {
        "colab": {
          "background_save": true
        },
        "id": "mQm1ne5vtuKp"
      },
      "source": [
        "def get_corpus_dict():\n",
        "  dic = dict()\n",
        "  with open('corpus/1grams-3.txt') as f:\n",
        "    for line in f.readlines():\n",
        "      freq, word = line.strip().split(\"\\t\")\n",
        "      dic[word] = int(freq)\n",
        "\n",
        "  return dic"
      ],
      "execution_count": null,
      "outputs": []
    },
    {
      "cell_type": "code",
      "metadata": {
        "colab": {
          "background_save": true
        },
        "id": "MpMQ3yA6jSCL",
        "outputId": "7d07699a-300d-42ed-8675-51c2aed0ccb3"
      },
      "source": [
        "corpus_dict = get_corpus_dict()\n",
        "print(\"Количество слов в корпусе:\", len(corpus_dict))"
      ],
      "execution_count": null,
      "outputs": [
        {
          "output_type": "stream",
          "text": [
            "Количество слов в корпусе: 1054210\n"
          ],
          "name": "stdout"
        }
      ]
    },
    {
      "cell_type": "code",
      "metadata": {
        "colab": {
          "background_save": true
        },
        "id": "gRMweEHMjR_e"
      },
      "source": [
        "def print_dict(dic, n=5):\n",
        "  i = 0\n",
        "  print(\"word -- key\")\n",
        "  for k, v in dic.items():\n",
        "    if i == n:\n",
        "      break\n",
        "    print(k, \"--\", v)\n",
        "    i += 1"
      ],
      "execution_count": null,
      "outputs": []
    },
    {
      "cell_type": "code",
      "metadata": {
        "colab": {
          "background_save": true
        },
        "id": "xLa4FqGJnBnY",
        "outputId": "8b90f0c9-a4cd-4b59-9e1f-fb358e7859b9"
      },
      "source": [
        "print_dict(corpus_dict)"
      ],
      "execution_count": null,
      "outputs": [
        {
          "output_type": "stream",
          "text": [
            "word -- key\n",
            "и -- 6829968\n",
            "в -- 5190215\n",
            "не -- 3164900\n",
            "на -- 2729210\n",
            "с -- 2064408\n"
          ],
          "name": "stdout"
        }
      ]
    },
    {
      "cell_type": "markdown",
      "metadata": {
        "id": "D8U0xdpk-bAh"
      },
      "source": [
        "Как вы можем видеть сверху, у каждого слова есть значение частоты. Однако, нам нужно превести это в вероятностную величину в рамках [0, 1]. \n",
        "\n",
        "Однако не все так глядко. Сумма частот оказалась слишком большой, поэтому будем использовать иной метод нормализации частоты для получения вероятности.\n",
        "\n",
        "Так мы будем нормализовать частоты, деля на максимальное значение в словаре, то есть на значение слова \"и\" = 6829968"
      ]
    },
    {
      "cell_type": "code",
      "metadata": {
        "colab": {
          "background_save": true
        },
        "id": "X_tCIIbq7oxN",
        "outputId": "10f3b36d-5316-419b-cfed-f3f219f13537"
      },
      "source": [
        "FREQ_MAX = max(corpus_dict.values())\n",
        "FREQ_MAX"
      ],
      "execution_count": null,
      "outputs": [
        {
          "output_type": "execute_result",
          "data": {
            "text/plain": [
              "6829968"
            ]
          },
          "metadata": {
            "tags": []
          },
          "execution_count": 0
        }
      ]
    },
    {
      "cell_type": "markdown",
      "metadata": {
        "id": "KXj9KNzc_MN6"
      },
      "source": [
        "Функция нормализации"
      ]
    },
    {
      "cell_type": "code",
      "metadata": {
        "colab": {
          "background_save": true
        },
        "id": "m-swStJF7hmv"
      },
      "source": [
        "freq_normalize = lambda x: x / FREQ_MAX"
      ],
      "execution_count": null,
      "outputs": []
    },
    {
      "cell_type": "markdown",
      "metadata": {
        "id": "GUwwZhy1_SWd"
      },
      "source": [
        "Нормализуем данные"
      ]
    },
    {
      "cell_type": "code",
      "metadata": {
        "colab": {
          "background_save": true
        },
        "id": "TRmzh1majR6T"
      },
      "source": [
        "corpus_dict = {k: freq_normalize(v) for k, v in corpus_dict.items()}"
      ],
      "execution_count": null,
      "outputs": []
    },
    {
      "cell_type": "code",
      "metadata": {
        "colab": {
          "background_save": true
        },
        "id": "8Jaa0_lMjR3p",
        "outputId": "82f40b9f-014f-4ca3-8b71-deb7be71e0ac"
      },
      "source": [
        "print_dict(corpus_dict)"
      ],
      "execution_count": null,
      "outputs": [
        {
          "output_type": "stream",
          "text": [
            "word -- key\n",
            "и -- 1.0\n",
            "в -- 0.7599179088393972\n",
            "не -- 0.46338430868197333\n",
            "на -- 0.39959338023252816\n",
            "с -- 0.3022573458616497\n"
          ],
          "name": "stdout"
        }
      ]
    },
    {
      "cell_type": "markdown",
      "metadata": {
        "id": "NExKwXke_VqF"
      },
      "source": [
        "Огонь фича! Используем функцию враппер для кеширования аргументов для ускорения."
      ]
    },
    {
      "cell_type": "code",
      "metadata": {
        "colab": {
          "background_save": true
        },
        "id": "IODeYNP8jR03"
      },
      "source": [
        "def memo(f):\n",
        "    \"Memoize function f, whose args must all be hashable.\"\n",
        "    cache = {}\n",
        "    def fmemo(*args):\n",
        "        if args not in cache:\n",
        "            cache[args] = f(*args)\n",
        "        return cache[args]\n",
        "    fmemo.cache = cache\n",
        "    return fmemo"
      ],
      "execution_count": null,
      "outputs": []
    },
    {
      "cell_type": "markdown",
      "metadata": {
        "id": "PdV3FTg5_pi6"
      },
      "source": [
        "Функционал для сегметации слов на части на основе частотных вероятностей."
      ]
    },
    {
      "cell_type": "code",
      "metadata": {
        "colab": {
          "background_save": true
        },
        "id": "rwLvJEKhaLyK"
      },
      "source": [
        "def pdist(word):\n",
        "    \"Make a probability distribution, given evidence from a Counter.\"\n",
        "    if word in corpus_dict:\n",
        "      return corpus_dict[word]\n",
        "    else:\n",
        "      return 0\n",
        "\n",
        "def Pwords(words):\n",
        "    \"Probability of words, assuming each word is independent of others.\"\n",
        "    return np.prod([pdist(w) for w in words])\n",
        "\n",
        "def splits(text, start=0, L=20):\n",
        "    \"Return a list of all (first, rest) pairs; start <= len(first) <= L.\"\n",
        "    return [(text[:i], text[i:]) \n",
        "            for i in range(start, min(len(text), L)+1)]\n",
        "\n",
        "@memo\n",
        "def segment(text):\n",
        "    \"Return a list of words that is the most probable segmentation of text.\"\n",
        "    if not text: \n",
        "        return []\n",
        "    else:\n",
        "      candidates = ([first] + segment(rest) \n",
        "                    for (first, rest) in splits(text, 1))\n",
        "      return max(candidates, key=Pwords)"
      ],
      "execution_count": null,
      "outputs": []
    },
    {
      "cell_type": "markdown",
      "metadata": {
        "id": "iXijgsJr_yZQ"
      },
      "source": [
        "Протестируем сегментацию"
      ]
    },
    {
      "cell_type": "code",
      "metadata": {
        "colab": {
          "background_save": true
        },
        "id": "ZqiEHoIvaLvc",
        "outputId": "ee256bbf-b48e-430d-fa26-77a5b486419c"
      },
      "source": [
        "%time print(segment('приветмир'))"
      ],
      "execution_count": null,
      "outputs": [
        {
          "output_type": "stream",
          "text": [
            "['привет', 'мир']\n",
            "CPU times: user 1.69 ms, sys: 0 ns, total: 1.69 ms\n",
            "Wall time: 1.68 ms\n"
          ],
          "name": "stdout"
        }
      ]
    },
    {
      "cell_type": "markdown",
      "metadata": {
        "id": "DO_-w97JAHTn"
      },
      "source": [
        "Функция для сегментирования слов в данных. Важный момент: после, стоит очистить данные от слов длиной меньше 3 букв, ибо они врядли будут нести смысл в текст и считаются скорее как stop words. Хоть очистка от stop words будет еще применена в дальнейшем, дополнительная очистка не помешает."
      ]
    },
    {
      "cell_type": "code",
      "metadata": {
        "colab": {
          "background_save": true
        },
        "id": "P5KdQyHPqLcH"
      },
      "source": [
        "def segment_words(words):\n",
        "  new_words = []\n",
        "  for word in words:\n",
        "    if word in corpus_dict:\n",
        "      new_words.append(word)\n",
        "    else:\n",
        "      new_words.extend(segment(word))\n",
        "  new_words = list(filter(lambda w: len(w)>2, new_words))\n",
        "  return new_words"
      ],
      "execution_count": null,
      "outputs": []
    },
    {
      "cell_type": "code",
      "metadata": {
        "colab": {
          "background_save": true
        },
        "id": "gHOV8bzYaLst"
      },
      "source": [
        "data_df['text'] = data_df['text'].apply(segment_words)"
      ],
      "execution_count": null,
      "outputs": []
    },
    {
      "cell_type": "markdown",
      "metadata": {
        "id": "PQ5WZCWRA_vu"
      },
      "source": [
        "Поглядим на получившиеся данные."
      ]
    },
    {
      "cell_type": "code",
      "metadata": {
        "colab": {
          "background_save": true
        },
        "id": "bm85aZjzaLp7",
        "outputId": "cd90de45-6181-4029-8416-c17270ccbdfd"
      },
      "source": [
        "data_df.head"
      ],
      "execution_count": null,
      "outputs": [
        {
          "output_type": "execute_result",
          "data": {
            "text/plain": [
              "<bound method NDFrame.head of                                                                                                                                                                                                                                                                                                                                                                                                                                                                                                                                                                                                                                                                                                                                                                                                                                                                                                                                                                                                                                                                                               text sentiment\n",
              "0     [досудебное, расследование, факту, покупки, пакета, облигаций, гул, аурум, было, начато, инициативе, национального, банка, сообщил, директор, департамента, защиты, прав, потребителей, финансовых, услуг, нацбанка, казах, александр, рент, основанием, для, досудебного, расследования, стало, обращение, национального, банка, письмо, ноября, года, было, обращение, национального, банка, правоохранительные, органы, нам, эта, сделка, показалась, сомнительной, недостаточно, корректной, поэтому, банк, ноября, года, обратился, правоохранительные, органы, это, что, могу, озвучить, сегодня, идёт, следствие, проводится, проверка, сказал, рент, декабря, банке, заявили, что, знают, что, стало, основанием, для, проверки, декабря, факт, проведения, проверки, единый, накопительный, пенсионный, фонд, подтвердился, национального, банка, сообщила, что, проверку, проводят, операциям, совершённым, отношении, инвестирования, собственных, активов, также, фин, ...]                                                                                                       negative\n",
              "1     [медики, рассказали, состоянии, пострадавшего, мужчины, которого, было, совершено, нападение, возле, отделения, банка, мир, зева, как, прокомментировали, управления, здравоохранения, места, происшествия, службу, скорой, помощи, обратились, двое, человек, одному, них, месте, была, оказана, медицинская, помощь, госпитализации, отказался, второй, пациент, был, доставлен, больницу, скорой, неотложной, помощи, сотрясением, головного, мозга, ушибленной, раной, головы, состояние, данный, момент, оценивается, ближе, удовлетворительному, пока, проходит, обследование, больнице, сообщили, управлении, здравоохранения, напомним, пересечении, улиц, мир, зева, марко, возле, лат, гранд, произошла, стрельба, ориентировочно, обеденное, время, здании, расположены, отделения, банков, сбербанк, настоящее, время, полицейские, разыскивают, подозреваемых, стрельбе, факту, нападения, местном, управлении, внутренних, дел, начато, досудебное, расследование, статье, разбой, создана, специальная, ...]                                                                   negative\n",
              "2     [прошел, почти, год, как, железнодорожным, операторам, запретили, эксплуатировать, вагоны, продленным, сроком, службы, всего, было, списано, около, вагонов, больше, всего, списала, первая, грузовая, компания, лад, мира, более, вагонов, федеральная, грузовая, компания, дочерняя, структура, около, вагонов, одной, стороны, списание, вагонов, приведет, постепенному, восстановлению, арендной, ставки, что, будет, способствовать, росту, инвестиционной, привлекательности, покупки, новых, вагонов, повысит, спрос, них, стимулируя, положительную, динамику, производства, отрасли, говорится, мониторинге, ситуации, экономике, россии, январе, ноябре, подготовленном, мин, экономразвития, другой, стороны, сокращение, вагонного, парка, счет, старых, вагонов, его, обновление, новыми, приведет, стремлению, быстрее, окупить, приобретение, что, приведет, росту, тарифов, перевозок, увеличивая, нагрузку, грузоотправителей, этой, связи, присутствует, риск, сокращения, грузооборота, ...]                                                                              negative\n",
              "3     [итогам, месяцев, года, территории, республики, выпущено, единиц, автотранспортных, средств, сумму, млрд, тенге, что, ниже, результата, годичной, давности, натуральном, выражении, этом, союзе, предприятий, автомобильной, отрасли, казах, про, единиц, пришлось, легковую, технику, минус, аналогичному, значению, года, выпуск, грузовых, автомобилей, казахстанских, предприятиях, итогам, месяцев, года, вырос, достиг, производство, автобусной, техники, отчетный, период, увеличилось, отметки, единицы, основным, фактором, сокращения, производственных, показателей, автопрома, стал, резкий, спад, рыночной, активности, так, итогам, месяцев, года, официальными, дилерами, реализовано, средств, всех, категорий, против, тыс, единиц, году, падение, говорится, распространенном, сообщении, тем, менее, динамика, второй, половины, года, свидетельствуют, планомерном, оздоровлении, отрасли, спад, совокупных, показателей, производства, замедлился, года, результатам, месяцев, сбыт, ...]                                                                               negative\n",
              "4     [ноября, агентство, делам, государственной, службы, противодействию, коррупции, выражает, обеспокоенность, участившимися, фактами, коррупции, государственном, секторе, сообщила, ведомства, согласно, сообщению, результате, мониторинга, агентством, выявлены, серьезные, коррупционные, риски, государственном, секторе, анализ, показал, рост, коррупционных, правонарушений, данном, направлении, почти, раза, сравнению, прошлым, годом, этой, сфере, основном, преобладают, факты, хищения, злоупотребления, должностными, полномочиями, взяточничество, при, осуществлении, закупок, реализации, программ, передает, ведомстве, напомнили, что, антикоррупционной, службой, изобличены, зампредседателя, правления, бай, рек, руководитель, дирекции, реализации, программ, управляющий, директор, которые, наладили, преступную, схему, получению, взяток, организаций, ура, акт, обе, раз, дык, органе, лоббирование, интересов, при, строительстве, арендного, жилья, рамках, госпрограммы, рлы, данным, коррупционные, преступления, руководителями, бай, рек, совершались, ...]  negative\n",
              "...                                                                                                                                                                                                                                                                                                                                                                                                                                                                                                                                                                                                                                                                                                                                                                                                                                                                                                                                                                                                                                                                                            ...       ...\n",
              "8258  [как, писали, еще, весной, для, увеличения, сбыта, также, избегания, переплаты, лишних, денег, или, ионный, сбор, организует, производство, наиболее, популярных, своих, моделей, казах, сейчас, эта, информация, нашла, свое, подтверждение, уже, декабре, ком, заводе, обещают, начать, сборку, нового, поколения, сейчас, собирают, предыдущее, стартовой, ценой, тенге, салоны, дилеров, автомобиль, поступит, года, примерно, это, время, начнется, крупно, узлов, сборка, седана, кроссовер, машинокомплекты, для, этих, будут, поставляться, россии, где, осуществляется, сборка, полному, циклу, также, году, казах, могут, начаться, поставки, электромобиля, цене, примерно, когда, это, произойдет, точно, пока, неизвестно, автомобили, собранные, казах, станут, дешевле, привезенных, зато, можно, будет, купить, программе, льготного, кредитования, под, годовых, компания, надеется, ...]                                                                                                                                                                                    positive\n",
              "8259  [молодой, министр, национальной, экономики, баев, похоже, придумал, свой, гениальный, план, только, оставил, ратует, чтобы, его, платил, даже, малый, средний, бизнес, что, казна, будет, полна, экспортеры, шоколаде, выживут, мелкие, бизнесмены, это, похоже, сейчас, помню, как, начале, всей, этой, тряски, экономикой, чиновники, хором, говорили, что, малый, средний, бизнес, должен, вынести, своих, плечах, страну, кризиса, обеспечить, самозанятость, увеличить, производство, местной, продукции, пополнить, бюджет, рухнувшие, цены, нефть, еще, больше, укрепили, веру, мсб, спасательным, кругом, должны, были, стать, налоговая, реформа, кардинальный, пересмотр, условий, которых, приходится, работать, бизнесу, проблема, была, настолько, важна, что, президент, выступил, программой, конкретных, шагов, один, основных, пунктов, который, вызвал, самые, бурные, обсуждения, ...]                                                                                                                                                                                     negative\n",
              "8260  [назначен, новый, председатель, правления, единогласно, председателем, была, избрана, нур, уры, баев, сказала, председатель, совета, директоров, заместитель, председателя, национального, банка, дина, ранее, она, занимала, должность, директора, департамента, внутреннего, аудита, национального, банка, источник]                                                                                                                                                                                                                                                                                                                                                                                                                                                                                                                                                                                                                                                                                                                                                                        neutral \n",
              "8261  [отделения, банка, произошло, нападение, стрельбой, сегодня, отделений, банков, улице, мир, зева, между, улицами, марко, бай, тур, сын, произошло, нападение, двоих, мужчин, неизвестные, огнестрельным, оружием, пытались, вырвать, сумку, одного, них, предположительно, мужчина, вышел, банка, деньгами, сообщает, они, сцепились, говорит, охранник, здания, улице, мир, зева, выстрелили, воздух, потом, ударили, одного, мужчин, голове, пистолетом, это, его, кровь, асфальте, его, увезла, скорая, месте, работают, криминалисты, территория, оцеплена, здании, находятся, отделения, банков, сбербанк, очевидец, рассказал, что, при, пострадавшем, был, паспорт, гражданина, россии, выстрелы, были, слышны, лат, гранд, здесь, находятся, филиалы, банка, сбербанка, сбербанка, сообщили, что, пострадавший, является, клиентом, пообещали, дать, ответ, позже, октября, неизвестные, напали, ...]                                                                                                                                                                                 negative\n",
              "8262  [там, предлагает, создать, национальный, экспортный, центр, для, продвижения, казахстанских, товаров, внешние, рынки, новая, организация, будет, обеспечивать, связь, госорганов, эффективное, использование, инфраструктуры, дипломатической, службы, казах, рубежом, для, продвижения, казахстанских, товаров, внешние, рынки, эти, другие, предложения, задачи, национальной, палаты, предпринимателей, год, также, итоги, работы, год, расширенном, заседании, президиума, там, озвучил, заместитель, председателя, правления, ржа, альта, рассказал, что, сегодня, экспорт, ориентированность, малого, среднего, бизнеса, является, ключевым, драйвером, роста, экономики, казах, для, отечественных, предпринимателей, особенно, сфере, сельского, хозяйства, пищевой, промышленности, открываются, очень, серьезные, рынки, сбыта, китай, российскую, федерацию, страны, персидского, залива, ран, создание, предлагаемого, национального, экспортного, центра, должно, обеспечить, связь, как, госорганами, так, эффективное, ...]                                                    neutral \n",
              "\n",
              "[8263 rows x 2 columns]>"
            ]
          },
          "metadata": {
            "tags": []
          },
          "execution_count": 0
        }
      ]
    },
    {
      "cell_type": "markdown",
      "metadata": {
        "id": "We7KM4F72Cxn"
      },
      "source": [
        "### Лемматизация.\n",
        "\n",
        "Как уже было сказано, лемматизация важна для сокращения словаря наших данных. Более того, она снижает смысловую нагрузку, упрощая и стандартизируя слова.\n",
        "\n",
        "\n",
        "Для данной цели, будем использовать токенайзер с лемматизацией русского языка от DeepPavlov."
      ]
    },
    {
      "cell_type": "code",
      "metadata": {
        "colab": {
          "background_save": true
        },
        "id": "igj-sgJ0VTXM",
        "outputId": "9672c6fb-0978-4c98-c5b0-8d80087b8e26"
      },
      "source": [
        "from deeppavlov.models.tokenizers.ru_tokenizer import RussianTokenizer\n",
        "rus_tokenizer = RussianTokenizer(lemmas=True, stopwords=stopwords.words('russian'))"
      ],
      "execution_count": null,
      "outputs": [
        {
          "output_type": "stream",
          "text": [
            "[nltk_data] Downloading package punkt to /root/nltk_data...\n",
            "[nltk_data]   Package punkt is already up-to-date!\n",
            "[nltk_data] Downloading package stopwords to /root/nltk_data...\n",
            "[nltk_data]   Package stopwords is already up-to-date!\n",
            "[nltk_data] Downloading package perluniprops to /root/nltk_data...\n",
            "[nltk_data]   Unzipping misc/perluniprops.zip.\n",
            "[nltk_data] Downloading package nonbreaking_prefixes to\n",
            "[nltk_data]     /root/nltk_data...\n",
            "[nltk_data]   Unzipping corpora/nonbreaking_prefixes.zip.\n"
          ],
          "name": "stderr"
        }
      ]
    },
    {
      "cell_type": "markdown",
      "metadata": {
        "id": "7SKDXZPDCjLY"
      },
      "source": [
        "Функция полной токенизации, основанной на всем, что мы сделали до этого."
      ]
    },
    {
      "cell_type": "code",
      "metadata": {
        "colab": {
          "background_save": true
        },
        "id": "CsBdZRRNVTXU"
      },
      "source": [
        "def final_tokenizer(string):\n",
        "  words = segment_words(ru_token(string))\n",
        "  return rus_tokenizer([\" \".join(words)])[0]"
      ],
      "execution_count": null,
      "outputs": []
    },
    {
      "cell_type": "markdown",
      "metadata": {
        "id": "w_6gGR-fCxAH"
      },
      "source": [
        "## Создадим TF-IDF векторизатор\n",
        "Будем использовать векторизированные данные для обучения моделей."
      ]
    },
    {
      "cell_type": "code",
      "metadata": {
        "colab": {
          "background_save": true
        },
        "id": "LfGY_pL42B0Q"
      },
      "source": [
        "params = {}\n",
        "params['tokenizer'] = final_tokenizer\n",
        "params['stop_words'] = stopwords.words('russian')\n",
        "params['ngram_range'] = (1, 3)\n",
        "params['min_df'] = 3\n"
      ],
      "execution_count": null,
      "outputs": []
    },
    {
      "cell_type": "code",
      "metadata": {
        "colab": {
          "background_save": true
        },
        "id": "mGKuPSxs2Bxi"
      },
      "source": [
        "tfidf  = TfidfVectorizer(**params)"
      ],
      "execution_count": null,
      "outputs": []
    },
    {
      "cell_type": "code",
      "metadata": {
        "colab": {
          "background_save": true
        },
        "id": "D5Pt7BOL2Bur",
        "outputId": "47411f7f-8251-4adc-9882-676afa7f4dd1"
      },
      "source": [
        "tfidf.fit([i for i in raw_df['text']])"
      ],
      "execution_count": null,
      "outputs": [
        {
          "output_type": "stream",
          "text": [
            "/usr/local/lib/python3.7/dist-packages/sklearn/feature_extraction/text.py:489: UserWarning: The parameter 'token_pattern' will not be used since 'tokenizer' is not None'\n",
            "  warnings.warn(\"The parameter 'token_pattern' will not be used\"\n"
          ],
          "name": "stderr"
        },
        {
          "output_type": "execute_result",
          "data": {
            "text/plain": [
              "TfidfVectorizer(min_df=3, ngram_range=(1, 3),\n",
              "                stop_words=['и', 'в', 'во', 'не', 'что', 'он', 'на', 'я', 'с',\n",
              "                            'со', 'как', 'а', 'то', 'все', 'она', 'так', 'его',\n",
              "                            'но', 'да', 'ты', 'к', 'у', 'же', 'вы', 'за', 'бы',\n",
              "                            'по', 'только', 'ее', 'мне', ...],\n",
              "                tokenizer=<function final_tokenizer at 0x7fc1bc5a5170>)"
            ]
          },
          "metadata": {
            "tags": []
          },
          "execution_count": 0
        }
      ]
    },
    {
      "cell_type": "markdown",
      "metadata": {
        "id": "hWwS0LIS85Gc"
      },
      "source": [
        "## Разделим данные на обучающие и тестовые выборки.\n",
        "Разделение будем проводить честно: делим данные отдельно по каждому виду тональности."
      ]
    },
    {
      "cell_type": "code",
      "metadata": {
        "colab": {
          "background_save": true
        },
        "id": "TAWlV8RB84Oq"
      },
      "source": [
        "train = {}\n",
        "test = {}\n",
        "tmp = defaultdict(list)\n",
        "for _, row in raw_df.iterrows():\n",
        "    tmp[row['sentiment']].append(row['text'])\n",
        "for l in tmp:\n",
        "    train[l], test[l] = train_test_split(tmp[l], test_size=0.2, random_state=2019)"
      ],
      "execution_count": null,
      "outputs": []
    },
    {
      "cell_type": "markdown",
      "metadata": {
        "id": "gnW5hjpK9sKq"
      },
      "source": [
        "Также, проводим выравнивание количества данных по каждому классу тональности в обучающей выборке."
      ]
    },
    {
      "cell_type": "code",
      "metadata": {
        "colab": {
          "background_save": true
        },
        "id": "vjhvHRCx2Brw"
      },
      "source": [
        "def upsampling_align(some_dict, random_state=2018):\n",
        "    rand = np.random.RandomState(random_state)\n",
        "    upper = max([len(some_dict[l]) for l in some_dict])\n",
        "    print('upper bound: {}'.format(upper))\n",
        "    tmp = {}\n",
        "    for l in some_dict:\n",
        "        if len(some_dict[l]) < upper:\n",
        "            repeat_time = int(upper/len(some_dict[l]))\n",
        "            remainder = upper % len(some_dict[l])\n",
        "            _tmp = some_dict[l].copy()\n",
        "            rand.shuffle(_tmp)\n",
        "            tmp[l] = some_dict[l] * repeat_time + _tmp[:remainder]\n",
        "            rand.shuffle(tmp[l])\n",
        "        else:\n",
        "            tmp[l] = some_dict[l]\n",
        "    return tmp"
      ],
      "execution_count": null,
      "outputs": []
    },
    {
      "cell_type": "code",
      "metadata": {
        "colab": {
          "background_save": true
        },
        "id": "zBcPCcA22Blk",
        "outputId": "8d9fb5aa-11e4-417d-d232-94c555b0746f"
      },
      "source": [
        "train_data = upsampling_align(train)"
      ],
      "execution_count": null,
      "outputs": [
        {
          "output_type": "stream",
          "text": [
            "upper bound: 3227\n"
          ],
          "name": "stdout"
        }
      ]
    },
    {
      "cell_type": "markdown",
      "metadata": {
        "id": "ZIQueDgT-F_F"
      },
      "source": [
        "## Обучение Logistic Regression классификатора с Softmax функцией для мультиклассификации"
      ]
    },
    {
      "cell_type": "code",
      "metadata": {
        "colab": {
          "background_save": true
        },
        "id": "6yZpM5v2aLnF"
      },
      "source": [
        "m_params = {}\n",
        "m_params['solver'] = 'lbfgs'\n",
        "m_params['multi_class'] = 'multinomial'"
      ],
      "execution_count": null,
      "outputs": []
    },
    {
      "cell_type": "code",
      "metadata": {
        "colab": {
          "background_save": true
        },
        "id": "TVSqPayJZSXx"
      },
      "source": [
        "softmax = LogisticRegression(**m_params)"
      ],
      "execution_count": null,
      "outputs": []
    },
    {
      "cell_type": "code",
      "metadata": {
        "colab": {
          "background_save": true
        },
        "id": "6w9cFbf8pVqY",
        "outputId": "4c71dd3a-9576-42c3-8ea0-b7d95acf14ae"
      },
      "source": [
        "x_train = [j for i in sorted(train_data.keys()) for j in train_data[i]]\n",
        "y_train = [i for i in sorted(train_data.keys()) for j in train_data[i]]\n",
        "x_test = [j for i in sorted(test.keys()) for j in test[i]]\n",
        "y_test = [i for i in sorted(test.keys()) for j in test[i]]\n",
        "\n",
        "print(x_train[:1])"
      ],
      "execution_count": null,
      "outputs": [
        {
          "output_type": "stream",
          "text": [
            "['IA-CENTR.RU. «Казахстан-2017: новогодний политический сюрприз. ч.1» - Интервью с директором ИАЦ МГУ Сергеем РЕКЕДОЙ - Накануне нового года и непосредственно в период январских праздников принимается целый ряд принципиальных решений, в том числе по кадровым изменениям в правительстве. Причем эти перестановки не вписываются в логику плановых ротаций, а носят «вынужденный» характер, как в случае с экс-министром БИШИМБАЕВЫМ. Его отставка и возможное расследование в отношении топ-чиновника еще раз демонстрируют новый курс Акорды в духе генеральной линии конца прошлого года – «в Казахстане теперь неприкасаемых нет». Впрочем, есть и другие версии. Например, Марат ШИБУТОВ указывает на то обстоятельство, что у экс-министра не сложились отношения с премьером. \\n\\nEXCLUSIVE.KZ. ««Из-за выхода на пенсию». Как закатилась звезда Аслана Мусина» - На фоне праздников в Казахстане прошли серьезные кадровые рокировки, которые могут свидетельствовать об усилении транзитных процессов. Буквально под занавес 2016 года неожиданно Ерлан ИДРИСОВ лишился поста министра иностранных дел РК и был назначен послом РК в Великобритании. Новым министром иностранных дел стал Кайрат АБДРАХМАНОВ. Лишился своего поста и министр национальной экономики Куандык БИШИМБАЕВ, более того против него проводятся некие следственные мероприятия. Новым министром национальной экономики стал Тимур СУЛЕЙМЕНОВ. Однако уже и начало Нового года преподнесло ряд сюрпризов. В первые же рабочий день стало известно, что был освобожден от должности Чрезвычайного и Полномочного Посла Республики Казахстан в Соединенных Штатах Америки Кайрат УМАРОВ и назначен Постоянным представителем Республики Казахстан при Организации Объединенных Наций. Но, пожалуй, самым ключевым в этой череде отставок и назначений стала отправка Аслана МУСИНА, который в последние два года был послом Казахстана в Хорватии на пенсию. \\n\\nNOVGAZ.COM. «Аркадий ДУБНОВ: «Задержание Дутбаева может иметь отношение к делу Мухтара Аблязова»» - Задержание бывшего главы Комитета национальной безопасности (КНБ) Казахстана Нартая ДУТБАЕВА может быть связано с делом бывшего казахстанского банкира Мухтара ААБЛЯЗОВА, считает эксперт по Центральной Азии Аркадий ДУБНОВ. \\n\\nПо мнению политолога Данияра АШИМБАЕВА, «дело Дутбаева имеет отношение, скорее всего, к его работе председателем КНБ, с которой он ушел, как мы знаем, в начале 2006 года… Санкцию на задержание или арест такого рода человека сама по себе ни одна правоохранительная структура страны выдать не может. Вопрос, скорее всего, был согласован в «верхах», как минимум, в администрации президента». \\n\\nKAPITAL.KZ. «Глава ЕНПФ задержан» - Председатель правления Единого накопительного пенсионного фонда (Руслан ЕРДЕНАЕВ — Ред.) и один из его заместителей водворены в изолятор временного содержания. Об этом в эксклюзивном интервью сообщил директор управления по защите прав потребителей финансовых услуг и внешних коммуникаций Нацбанка Александр ТЕРЕНТЬЕВ. В ЕНПФ отказались комментировать ситуацию. \\n\\n«Процедура регистрации граждан по месту жительства будет максимально простой» - Поправки в законодательство в части регистрации граждан по постоянному и временному месту жительства прокомментировал заместитель министра внутренних дел Республики Казахстан генерал-майор полиции Ерлан ТУРГУМБАЕВ. Прежде всего, установлена обязанность хозяина дома или квартиры зарегистрировать лиц, проживающих в сдаваемом ими жилище. Введена обязательная регистрация по месту временного пребывания сроком свыше одного месяца. Для обеспечения перечисленных требований введена административная ответственность хозяев за проживание граждан в принадлежащем им жилье без регистрации, в то время как ранее административной ответственности подлежали только жильцы. \\n\\nMATRITCA.KZ. Ерлан КАРИН – «Ситуация с нормой о временной регистрации - очередной урок для всех» - Вместо новых норм по регистрации перемещения граждан, необходимо больше сконцентрироваться на регулировании фактически сложившегося теневого рынка по аренде недвижимости, дальнейшего усиления работы участковых, пересмотреть работу КСК и тл. И самое главное, при разработке этих норм следовало бы учесть широкий спектр вопросов трудовой миграции, поскольку с одной стороны Правительство говорит о наращивании трудовой мобильности, перемещении трудовых ресурсов с одних регионов в другие регионы, а потом принимает противоречащие этим же заявленным приоритетам другие нормы. Поэтому думаю, через некоторое время возможно госорганы сами же могут пересмотреть их. \\n\\nTOTAL.KZ. «Временная регистрация: о чем говорят посетители ЦОНов» - Законодательные поправки об обязательной регистрации стали главной темой казахстанского интернета. Социальные сети буквально пестрят вопросами граждан, на которые у авторов проекта, к большому сожалению, пока нет ответов. По мнению большинства, население в очередной раз поставили перед фактом. \\n\\nFORBES.KZ. «Адекватно ли правительство Казахстана реагирует на кризис?» - Возможно, Казахстану все-таки удаcтся адаптироваться к новой реальности без ухода в рецессию по итогам 2016. Во всяком случае, Европейский банк реконструкции и развития (ЕБРР) накануне подведения итогов официальной статистики за 2016 считает, что экономика страны в 2016 прибавит 0,7\\u200a%, а в 2017 покажет рост на 2,4\\u200a%. Инфляция по итогам прошедшего года прогнозируется на уровне 14,8\\u200a%, наступившего – 7,5% (коридор, определенный Нацбанком, – 6–8\\u200a%). \\n\\n365INFO.KZ. «Банки Казахстана в 2017 году: что натворил кризис» - Банковскую систему Казахстана ждут ключевые события, которые могут изменить расстановку сил. Банки лихорадит. В преддверии 2017 года сразу три казахстанских банка — Казинвестбанк, Delta Bank и Казкоммерцбанк — оказались на грани дефолта. Казинвестбанк уже лишен лицензии, Нацбанк подал в суд заявление о принудительной ликвидации проблемного финансового института. Между тем независимые эксперты открыто говорят, что в 2017 году банков в Казахстане станет меньше. Намного меньше. \\n\\n««Женюсь на казашке!» Почему китайцы рвутся в Казахстан?» - Объявления китайцев о поиске невест в Казахстане серьезно пугают патриотов страны. \\n\\nНыне покойный сенатор Иран АМИРОВ 3 года назад бил тревогу: — Завтра жиены (племянники, внуки по женской лини, то есть дети дочерей, сестер) могут выбиться в люди, тогда мы можем потерять власть в своей стране. \\n\\nПолитолог Дос КУШИМ считает, чтобы избежать больших проблем и завтра не кусать локти, нам уже сейчас нужно принять соответствующие правовые нормы и по примеру России законодательно ограничить иностранную рабочую силу в стране. \\n\\nSAYASAT.ORG. «Центральная Азия на перепутье» - Под эгидой казахстанского института стратегических исследований при президенте РК состоялся круглый стол «Центральная Азия - 2017: новые тренды и сценарии». Открывая мероприятие, директор КИСИ Ерлан КАРИН отметил, что во многих международных прогнозах на 2017 год отсутствуют какие-либо характеристики процессов, которые происходят в нашем регионе. \\n\\nВ свою очередь политолог Айдос САРЫМ считает, что в Центральной Азии происходит перестройка джихадистского подполья. В пример со ссылкой на кыргызских коллег он привёл Кыргызстан, где Юг страны тяготеет к Аль-кайеде, а северная часть – к ИГИЛу. \\n\\nНовую тенденцию в общественном настроении казахстанцев отметил социолог Серик БЕЙСЕМБАЕВ - До 2015 года казахстанцы считали, что у Казахстана нет недружественных соседей. А в 2016 году этот тренд изменился за счет увеличения доли респондентов считающих Украину и Китай недружественными государствами. Если в 2015 их было около 10%, то в 2016 - уже более 20%. \\n\\nAZATTYQ.ORG. «Аварийные дома в Уральске: проблема людей или государства?» - По официальным данным в Уральске 41 дом признан аварийным. Власти не будут предоставлять жильцам таких домов государственное жилье. Людям предлагают договариваться с частными строительными компаниями о строительстве нового жилья в обмен на ветхое. \\n\\n*** \\n\\n© ZONAkz, 2017г. Перепечатка запрещена. Допускается только гиперссылка на материал. \\n\\n \\n']\n"
          ],
          "name": "stdout"
        }
      ]
    },
    {
      "cell_type": "markdown",
      "metadata": {
        "id": "_nOS7G5JFT4S"
      },
      "source": [
        "Пропускаем данные через TF-IDF векторизатор"
      ]
    },
    {
      "cell_type": "code",
      "metadata": {
        "colab": {
          "background_save": true
        },
        "id": "h3zjHwkTt_qf"
      },
      "source": [
        "x_train_tr = tfidf.transform(x_train)\n",
        "x_test_tr = tfidf.transform(x_test)"
      ],
      "execution_count": null,
      "outputs": []
    },
    {
      "cell_type": "code",
      "metadata": {
        "colab": {
          "background_save": true
        },
        "id": "tKYWIdPwlu7m",
        "outputId": "18256550-af02-4020-a9a8-da3f47e732a1"
      },
      "source": [
        "softmax.fit(x_train_tr, y_train)"
      ],
      "execution_count": null,
      "outputs": [
        {
          "output_type": "stream",
          "text": [
            "/usr/local/lib/python3.7/dist-packages/sklearn/linear_model/_logistic.py:765: ConvergenceWarning: lbfgs failed to converge (status=1):\n",
            "STOP: TOTAL NO. of ITERATIONS REACHED LIMIT.\n",
            "\n",
            "Increase the number of iterations (max_iter) or scale the data as shown in:\n",
            "    https://scikit-learn.org/stable/modules/preprocessing.html\n",
            "Please also refer to the documentation for alternative solver options:\n",
            "    https://scikit-learn.org/stable/modules/linear_model.html#logistic-regression\n",
            "  extra_warning_msg=_LOGISTIC_SOLVER_CONVERGENCE_MSG)\n"
          ],
          "name": "stderr"
        },
        {
          "output_type": "execute_result",
          "data": {
            "text/plain": [
              "LogisticRegression(multi_class='multinomial')"
            ]
          },
          "metadata": {
            "tags": []
          },
          "execution_count": 0
        }
      ]
    },
    {
      "cell_type": "markdown",
      "metadata": {
        "id": "oPIko6af-xHM"
      },
      "source": [
        "### Оценка модели"
      ]
    },
    {
      "cell_type": "code",
      "metadata": {
        "colab": {
          "background_save": true
        },
        "id": "u4HbQ6FOpVn3"
      },
      "source": [
        "pred = softmax.predict(x_test_tr)"
      ],
      "execution_count": null,
      "outputs": []
    },
    {
      "cell_type": "code",
      "metadata": {
        "colab": {
          "background_save": true
        },
        "id": "N7la0R5fpVlN",
        "outputId": "8e391a61-4740-408f-f341-da4336b68cf9"
      },
      "source": [
        "accuracy_score(y_test, pred)"
      ],
      "execution_count": null,
      "outputs": [
        {
          "output_type": "execute_result",
          "data": {
            "text/plain": [
              "0.7247428917120388"
            ]
          },
          "metadata": {
            "tags": []
          },
          "execution_count": 0
        }
      ]
    },
    {
      "cell_type": "code",
      "metadata": {
        "colab": {
          "background_save": true
        },
        "id": "54oBmygfqyIk"
      },
      "source": [
        "#test text\n",
        "s = \"Как сообщает пресс-служба акимата Алматы, для ликвидиции последствий снегопада задействовали 415 единиц спецтехники, 150 самосвалов, 20 погрузчиков и 6 автогрейдеров. Уборка снега началась еще ночью. Сначала был убран снег, потом на дорогах использовали более 4 тысяч тонн противогололедных реагентов. По состоянию на 7 утра 24 января высота снежного покрова в Алматы составила до 20 сантиметров в горной и до 15 сантиметров в предгорной местностях.\""
      ],
      "execution_count": null,
      "outputs": []
    },
    {
      "cell_type": "markdown",
      "metadata": {
        "id": "9O1-zYMP_NZy"
      },
      "source": [
        "Подробный репорт по оценкам и количество семплов по каждому классу тональности"
      ]
    },
    {
      "cell_type": "code",
      "metadata": {
        "colab": {
          "background_save": true
        },
        "id": "_46vH6oRpViy",
        "outputId": "229800d9-9846-43a7-8200-a3c746486d7a"
      },
      "source": [
        "lab = LabelEncoder()\n",
        "c_test = lab.fit_transform(y_test)\n",
        "c_pred = lab.transform(pred)\n",
        "print(classification_report(c_test, c_pred, target_names=lab.classes_, digits=5))"
      ],
      "execution_count": null,
      "outputs": [
        {
          "output_type": "stream",
          "text": [
            "              precision    recall  f1-score   support\n",
            "\n",
            "    negative    0.65350   0.74913   0.69805       287\n",
            "     neutral    0.76054   0.69269   0.72503       807\n",
            "    positive    0.71986   0.75850   0.73868       559\n",
            "\n",
            "    accuracy                        0.72474      1653\n",
            "   macro avg    0.71130   0.73344   0.72059      1653\n",
            "weighted avg    0.72820   0.72474   0.72496      1653\n",
            "\n"
          ],
          "name": "stdout"
        }
      ]
    },
    {
      "cell_type": "markdown",
      "metadata": {
        "id": "DXezw4mdGHbJ"
      },
      "source": [
        "Если судить по тем примерам, которые я встречал в интернете, данный результат весьма хорош для логистической регрессии."
      ]
    },
    {
      "cell_type": "markdown",
      "metadata": {
        "id": "i37imeX6cHY1"
      },
      "source": [
        "# Анализ тональности текста с использованием Keras и Word2Vec\n"
      ]
    },
    {
      "cell_type": "code",
      "metadata": {
        "colab": {
          "background_save": true
        },
        "id": "YN9BFKbS6lVl",
        "outputId": "b306b2e5-104d-4bea-f186-d2e9a557b4e5"
      },
      "source": [
        "import pandas as pd # provide sql-like data manipulation tools. very handy.\n",
        "pd.options.mode.chained_assignment = None\n",
        "import numpy as np # high dimensional vector computing library.\n",
        "from copy import deepcopy\n",
        "from string import punctuation\n",
        "from random import shuffle\n",
        "\n",
        "import gensim\n",
        "from gensim.models.word2vec import Word2Vec # the word2vec model gensim class\n",
        "LabeledSentence = gensim.models.doc2vec.LabeledSentence \n",
        "\n",
        "from tqdm import tqdm\n",
        "tqdm.pandas(desc=\"progress-bar\")\n",
        "\n",
        "from sklearn.model_selection import train_test_split\n",
        "from sklearn.feature_extraction.text import TfidfVectorizer\n",
        "\n",
        "import keras\n",
        "from keras.datasets import mnist\n",
        "from keras.models import Sequential\n",
        "from keras.layers import Dense, Dropout"
      ],
      "execution_count": null,
      "outputs": [
        {
          "output_type": "stream",
          "text": [
            "/usr/local/lib/python3.7/dist-packages/tqdm/std.py:658: FutureWarning: The Panel class is removed from pandas. Accessing it from the top-level namespace will also be removed in the next version\n",
            "  from pandas import Panel\n"
          ],
          "name": "stderr"
        }
      ]
    },
    {
      "cell_type": "code",
      "metadata": {
        "colab": {
          "background_save": true
        },
        "id": "0tKb8GXZQWQ6"
      },
      "source": [
        "from deeppavlov.models.tokenizers.ru_tokenizer import RussianTokenizer\n",
        "rus_tokenizer = RussianTokenizer(lemmas=True, stopwords=stopwords.words('russian'))"
      ],
      "execution_count": null,
      "outputs": []
    },
    {
      "cell_type": "code",
      "metadata": {
        "colab": {
          "background_save": true
        },
        "id": "T8d_e_i7QWQD"
      },
      "source": [
        "x_train_w = rus_tokenizer(x_train)\n",
        "x_test_w = rus_tokenizer(x_test)"
      ],
      "execution_count": null,
      "outputs": []
    },
    {
      "cell_type": "code",
      "metadata": {
        "colab": {
          "background_save": true
        },
        "id": "Qs2Vnsp-6lQj",
        "outputId": "1789ae52-7b6b-44ac-9f1f-cde8cc6390da"
      },
      "source": [
        "def labelizeTexts(strings, label_type):\n",
        "    labelized = []\n",
        "    for i,v in enumerate(strings):\n",
        "        label = '%s_%s'%(label_type,i)\n",
        "        labelized.append(LabeledSentence(v, [label]))\n",
        "    return labelized\n",
        "\n",
        "x_train_l = labelizeTexts(x_train_w, 'TRAIN')\n",
        "x_test_l = labelizeTexts(x_test_w, 'TEST')"
      ],
      "execution_count": null,
      "outputs": [
        {
          "output_type": "stream",
          "text": [
            "/usr/local/lib/python3.7/dist-packages/ipykernel_launcher.py:5: DeprecationWarning: Call to deprecated `LabeledSentence` (Class will be removed in 4.0.0, use TaggedDocument instead).\n",
            "  \"\"\"\n"
          ],
          "name": "stderr"
        }
      ]
    },
    {
      "cell_type": "code",
      "metadata": {
        "colab": {
          "background_save": true
        },
        "id": "67FMSUq76lOL",
        "outputId": "78f6667c-9be1-457d-dce5-c5c6da172a11"
      },
      "source": [
        "x_train_l[0]"
      ],
      "execution_count": null,
      "outputs": [
        {
          "output_type": "execute_result",
          "data": {
            "text/plain": [
              "LabeledSentence(words=['новогодний', 'политический', 'интервью', 'директор', 'иац', 'мгу', 'сергей', 'рекеда', 'накануне', 'новое', 'год', 'непосредственно', 'период', 'январский', 'праздник', 'приниматься', 'целый', 'ряд', 'принципиальный', 'решение', 'число', 'кадровый', 'изменение', 'причём', 'перестановка', 'вписываться', 'логика', 'плановый', 'ротация', 'носить', 'характер', 'случай', 'отставка', 'возможный', 'расследование', 'отношение', 'демонстрировать', 'новый', 'курс', 'акорд', 'дух', 'генеральный', 'линия', 'конец', 'прошлое', 'год', 'казахстан', 'неприкасаемый', 'например', 'марат', 'шибутовый', 'указывать', 'обстоятельство', 'сложиться', 'отношение', 'выход', 'пенсия', 'закатиться', 'звезда', 'аслан', 'мусин', 'фон', 'праздник', 'казахстан', 'пройти', 'серьёзный', 'кадровый', 'рокировка', 'который', 'мочь', 'свидетельствовать', 'усиление', 'транзитный', 'буквально', 'занавес', 'год', 'неожиданно', 'ерлана', 'идрис', 'лишиться', 'пост', 'министр', 'иностранный', 'дело', 'рк', 'назначить', 'посол', 'рк', 'новый', 'министр', 'иностранный', 'дело', 'стать', 'кайрат', 'лишиться', 'свой', 'пост', 'министр', 'национальный', 'экономика', 'куандык', 'бишимбаев', 'против', 'проводиться', 'некий', 'следственный', 'новый', 'министр', 'национальный', 'экономика', 'стать', 'тимур', 'однако', 'начать', 'новое', 'год', 'преподнести', 'ряд', 'рабочий', 'день', 'стать', 'известно', 'освободить', 'должность', 'чрезвычайный', 'полномочный', 'посол', 'республика', 'казахстан', 'соединить', 'штат', 'америка', 'кайрат', 'умаров', 'назначить', 'постоянный', 'представитель', 'республика', 'казахстан', 'организация', 'объединить', 'пожалуй', 'самый', 'ключевой', 'череда', 'отставка', 'назначение', 'стать', 'отправка', 'аслан', 'мусин', 'который', 'последний', 'год', 'посол', 'казахстан', 'хорватия', 'дубнов', 'дутбаев', 'иметь', 'отношение', 'дело', 'мухтар', 'аблязов', 'задержание', 'бывший', 'глава', 'комитет', 'национальный', 'безопасность', 'кнб', 'казахстан', 'нартая', 'дутбаев', 'связать', 'дело', 'бывший', 'казахстанский', 'банкир', 'мухтар', 'ааблязов', 'считать', 'эксперт', 'центральный', 'азия', 'аркадий', 'мнение', 'политолог', 'данияр', 'ашимбаев', 'дутбаев', 'иметь', 'отношение', 'скорее', 'работа', 'председатель', 'кнб', 'который', 'уйти', 'знать', 'начало', 'год', 'санкция', 'задержание', 'арест', 'род', 'человек', 'правоохранительный', 'структура', 'страна', 'выдать', 'вопрос', 'скорее', 'согласовать', 'минимум', 'администрация', 'президент', 'енпф', 'задержать', 'председатель', 'правление', 'единый', 'накопительный', 'пенсионный', 'фонд', 'руслан', 'ерденаесть', 'заместитель', 'водворить', 'изолятор', 'временной', 'эксклюзивный', 'интервью', 'сообщить', 'директор', 'управление', 'защита', 'право', 'потребитель', 'финансовый', 'услуга', 'внешний', 'коммуникация', 'нацбанк', 'александр', 'енпф', 'отказаться', 'комментировать', 'регистрация', 'гражданин', 'место', 'жительство', 'максимально', 'простой', 'поправка', 'законодательство', 'часть', 'регистрация', 'гражданин', 'постоянный', 'временной', 'место', 'жительство', 'прокомментировать', 'заместитель', 'министр', 'внутренний', 'дело', 'республика', 'казахстан', 'полиция', 'ерлана', 'прежде', 'установить', 'обязанность', 'хозяин', 'дом', 'квартира', 'зарегистрировать', 'лицо', 'проживать', 'сдавать', 'ввести', 'обязательный', 'регистрация', 'место', 'временной', 'пребывание', 'срок', 'свыше', 'обеспечение', 'перечисленный', 'требование', 'ввести', 'административный', 'ответственность', 'хозяин', 'проживание', 'гражданин', 'принадлежащий', 'жильё', 'регистрация', 'время', 'ранее', 'административный', 'ответственность', 'подлежать', 'ерлана', 'карин', 'норма', 'временной', 'регистрация', 'очередной', 'урок', 'вместо', 'новый', 'норма', 'регистрация', 'перемещение', 'гражданин', 'необходимый', 'сконцентрироваться', 'регулирование', 'фактически', 'сложиться', 'теневой', 'рынок', 'аренда', 'недвижимость', 'дальнейший', 'усиление', 'работа', 'участковый', 'пересмотреть', 'работа', 'кск', 'самый', 'главный', 'разработка', 'норма', 'следовать', 'учесть', 'широкий', 'спектр', 'вопрос', 'трудовой', 'миграция', 'поскольку', 'сторона', 'правительство', 'говорить', 'наращивание', 'трудовой', 'мобильность', 'перемещение', 'трудовой', 'ресурс', 'регион', 'регион', 'принимать', 'противоречащий', 'это', 'заявить', 'приоритет', 'поэтому', 'думать', 'некоторый', 'время', 'возможно', 'госорган', 'мочь', 'пересмотреть', 'регистрация', 'говорят', 'посетитель', 'цоновый', 'законодательный', 'поправка', 'обязательный', 'регистрация', 'стать', 'главный', 'тема', 'казахстанский', 'социальный', 'сеть', 'буквально', 'пестрить', 'вопрос', 'гражданин', 'который', 'автор', 'проект', 'большой', 'сожаление', 'пока', 'мнение', 'большинство', 'население', 'очередной', 'поставить', 'правительство', 'казахстан', 'реагировать', 'кризис', 'возможно', 'казахстан', 'удаcться', 'адаптироваться', 'новый', 'реальность', 'уход', 'рецессия', 'итог', 'всякий', 'случай', 'европейский', 'банк', 'реконструкция', 'развитие', 'ебрра', 'накануне', 'подведение', 'итог', 'официальный', 'статистика', 'считать', 'экономика', 'страна', 'прибавить', 'показать', 'рост', 'инфляция', 'итог', 'прошедшее', 'год', 'прогнозироваться', 'уровень', 'наступить', 'коридор', 'определённый', 'нацбанк', 'казахстан', 'год', 'натворить', 'кризис', 'банковский', 'система', 'казахстан', 'ждать', 'ключевой', 'событие', 'который', 'мочь', 'изменить', 'расстановка', 'банка', 'преддверие', 'год', 'сразу', 'казахстанский', 'банка', 'казинвестбанк', 'delta', 'bank', 'казкоммерцбанк', 'оказаться', 'грань', 'казинвестбанк', 'лишить', 'лицензия', 'нацбанк', 'подать', 'суд', 'заявление', 'принудительный', 'ликвидация', 'проблемный', 'финансовый', 'независимый', 'эксперт', 'открыто', 'говорят', 'год', 'банк', 'казахстан', 'стать', 'намного', 'казашка', 'почему', 'китаец', 'рваться', 'казахстан', 'объявление', 'китаец', 'поиск', 'невеста', 'казахстан', 'серьёзно', 'пугать', 'патриот', 'ныне', 'покойный', 'сенатор', 'иран', 'амир', 'год', 'назад', 'бить', 'тревога', 'завтра', 'жиена', 'племянник', 'внук', 'женский', 'линь', 'ребёнок', 'дочь', 'сестра', 'мочь', 'выбиться', 'человек', 'мочь', 'потерять', 'власть', 'свой', 'политолог', 'дос', 'кушить', 'считать', 'избежать', 'больший', 'проблема', 'завтра', 'кусать', 'локоть', 'нужно', 'принять', 'соответствующий', 'правовой', 'норма', 'пример', 'россия', 'законодательно', 'ограничить', 'иностранный', 'рабочий', 'сила', 'азия', 'перепутье', 'эгида', 'казахстанский', 'институт', 'стратегический', 'исследование', 'президент', 'рк', 'состояться', 'круглый', 'стол', 'азия', 'новое', 'тренд', 'сценарий', 'открывать', 'мероприятие', 'директор', 'кись', 'ерлана', 'карин', 'отметить', 'многий', 'международный', 'прогноз', 'год', 'отсутствовать', 'характеристика', 'процесс', 'который', 'происходить', 'наш', 'очередь', 'политолог', 'айдос', 'сарым', 'считать', 'центральный', 'азия', 'происходить', 'перестройка', 'джихадистский', 'пример', 'ссылка', 'кыргызский', 'коллега', 'привести', 'кыргызстан', 'юг', 'страна', 'тяготеть', 'северный', 'часть', 'новый', 'тенденция', 'общественный', 'настроение', 'казахстанец', 'отметить', 'социолог', 'серик', 'бейсембай', 'год', 'казахстанец', 'считать', 'казахстан', 'недружественный', 'год', 'тренд', 'измениться', 'счёт', 'увеличение', 'доля', 'респондент', 'считать', 'украина', 'китай', 'недружественный', 'около', 'дом', 'уральск', 'проблема', 'человек', 'государство', 'официальный', 'данные', 'уральск', 'дом', 'признанный', 'власть', 'предоставлять', 'жилец', 'дом', 'государственный', 'человек', 'предлагать', 'договариваться', 'частное', 'строительный', 'компания', 'строительство', 'новое', 'жильё', 'обмен', 'zonakz', 'перепечатка', 'допускаться', 'гиперссылка'], tags=['TRAIN_0'])"
            ]
          },
          "metadata": {
            "tags": []
          },
          "execution_count": 0
        }
      ]
    },
    {
      "cell_type": "code",
      "metadata": {
        "colab": {
          "background_save": true
        },
        "id": "wHcaBqkCsukm"
      },
      "source": [
        "n_dim = 200"
      ],
      "execution_count": null,
      "outputs": []
    },
    {
      "cell_type": "code",
      "metadata": {
        "colab": {
          "background_save": true
        },
        "id": "xTiFGxBwmyWT",
        "outputId": "571a8c19-48bf-44d4-862a-299215967ee5"
      },
      "source": [
        "w2v_model = Word2Vec(size=n_dim, min_count=10)\n",
        "w2v_model.build_vocab([x.words for x in x_train_l])\n",
        "w2v_model.train([x.words for x in x_train_l], total_examples=w2v_model.corpus_count, epochs=w2v_model.iter)"
      ],
      "execution_count": null,
      "outputs": [
        {
          "output_type": "stream",
          "text": [
            "/usr/local/lib/python3.7/dist-packages/ipykernel_launcher.py:3: DeprecationWarning: Call to deprecated `iter` (Attribute will be removed in 4.0.0, use self.epochs instead).\n",
            "  This is separate from the ipykernel package so we can avoid doing imports until\n"
          ],
          "name": "stderr"
        },
        {
          "output_type": "execute_result",
          "data": {
            "text/plain": [
              "(13962028, 15116355)"
            ]
          },
          "metadata": {
            "tags": []
          },
          "execution_count": 0
        }
      ]
    },
    {
      "cell_type": "code",
      "metadata": {
        "colab": {
          "background_save": true
        },
        "id": "DGEJ0wFqmyQE",
        "outputId": "1dfe5027-5105-48b9-c488-24bbc519fc40"
      },
      "source": [
        "w2v_model.most_similar('плохо')  # результаты схожести весьма ужасны: слова никак не связаны по смыслу. Возможно здесь кроится главная проблема, почему модель не работает\n",
        "                                    # Однако я не нашел способа исправить это"
      ],
      "execution_count": null,
      "outputs": [
        {
          "output_type": "stream",
          "text": [
            "/usr/local/lib/python3.7/dist-packages/ipykernel_launcher.py:1: DeprecationWarning: Call to deprecated `most_similar` (Method will be removed in 4.0.0, use self.wv.most_similar() instead).\n",
            "  \"\"\"Entry point for launching an IPython kernel.\n"
          ],
          "name": "stderr"
        },
        {
          "output_type": "execute_result",
          "data": {
            "text/plain": [
              "[('сложно', 0.701826810836792),\n",
              " ('быстро', 0.6862137913703918),\n",
              " ('наверняка', 0.6727855205535889),\n",
              " ('мало', 0.6712933778762817),\n",
              " ('слишком', 0.6586530804634094),\n",
              " ('кажется', 0.6541994214057922),\n",
              " ('понятно', 0.6468250751495361),\n",
              " ('мягко', 0.6455416083335876),\n",
              " ('логично', 0.6428501009941101),\n",
              " ('долго', 0.6422925591468811)]"
            ]
          },
          "metadata": {
            "tags": []
          },
          "execution_count": 0
        }
      ]
    },
    {
      "cell_type": "code",
      "metadata": {
        "colab": {
          "background_save": true
        },
        "id": "sP-ePV3jmyNW",
        "outputId": "4694a929-c554-4249-90d9-e3d6489c36d9"
      },
      "source": [
        "tfidf_vals = dict(zip(tfidf.get_feature_names(), tfidf.idf_))\n",
        "print('vocab size :', len(tfidf_vals))"
      ],
      "execution_count": null,
      "outputs": [
        {
          "output_type": "stream",
          "text": [
            "vocab size : 385750\n"
          ],
          "name": "stdout"
        }
      ]
    },
    {
      "cell_type": "code",
      "metadata": {
        "colab": {
          "background_save": true
        },
        "id": "OOeuTOW3myKX"
      },
      "source": [
        "def buildWordVector(tokens, size):\n",
        "    vec = np.zeros(size).reshape((1, size))\n",
        "    count = 0.\n",
        "    for word in tokens:\n",
        "        try:\n",
        "            vec += w2v_model[word].reshape((1, size)) * tfidf_vals[word]\n",
        "            count += 1.\n",
        "        except KeyError: # handling the case where the token is not\n",
        "                         # in the corpus. useful for testing.\n",
        "            continue\n",
        "    if count != 0:\n",
        "        vec /= count\n",
        "    return vec"
      ],
      "execution_count": null,
      "outputs": []
    },
    {
      "cell_type": "code",
      "metadata": {
        "colab": {
          "background_save": true
        },
        "id": "Y7GAtfcMnB8x",
        "outputId": "818e19f5-9247-4f29-da8d-27aec4fe7b82"
      },
      "source": [
        "from sklearn.preprocessing import scale\n",
        "train_vecs_w2v = np.concatenate([buildWordVector(z, n_dim) for z in map(lambda x: x.words, x_train_l)])\n",
        "train_vecs_w2v = scale(train_vecs_w2v)\n",
        "\n",
        "test_vecs_w2v = np.concatenate([buildWordVector(z, n_dim) for z in map(lambda x: x.words, x_test_l)])\n",
        "test_vecs_w2v = scale(test_vecs_w2v)"
      ],
      "execution_count": null,
      "outputs": [
        {
          "output_type": "stream",
          "text": [
            "/usr/local/lib/python3.7/dist-packages/ipykernel_launcher.py:6: DeprecationWarning: Call to deprecated `__getitem__` (Method will be removed in 4.0.0, use self.wv.__getitem__() instead).\n",
            "  \n",
            "/usr/local/lib/python3.7/dist-packages/ipykernel_launcher.py:6: DeprecationWarning: Call to deprecated `__getitem__` (Method will be removed in 4.0.0, use self.wv.__getitem__() instead).\n",
            "  \n"
          ],
          "name": "stderr"
        }
      ]
    },
    {
      "cell_type": "code",
      "metadata": {
        "colab": {
          "background_save": true
        },
        "id": "lpKBgGNwtim3",
        "outputId": "72f2f9c0-3d5d-4730-b082-178df0c8563f"
      },
      "source": [
        "train_vecs_w2v.shape"
      ],
      "execution_count": null,
      "outputs": [
        {
          "output_type": "execute_result",
          "data": {
            "text/plain": [
              "(9681, 200)"
            ]
          },
          "metadata": {
            "tags": []
          },
          "execution_count": 0
        }
      ]
    },
    {
      "cell_type": "code",
      "metadata": {
        "colab": {
          "background_save": true
        },
        "id": "RlSlWQwzttqJ"
      },
      "source": [
        "num_classes = 3"
      ],
      "execution_count": null,
      "outputs": []
    },
    {
      "cell_type": "code",
      "metadata": {
        "colab": {
          "background_save": true
        },
        "id": "vKKowEtbuzUX"
      },
      "source": [
        "def sent_to_int(sent):\n",
        "  if sent == \"positive\":\n",
        "    return 2\n",
        "  elif sent == \"neutral\":\n",
        "    return 1\n",
        "  elif sent == \"negative\":\n",
        "    return 0\n",
        "  else:\n",
        "    print(sent)\n",
        "    raise ValueError()"
      ],
      "execution_count": null,
      "outputs": []
    },
    {
      "cell_type": "code",
      "metadata": {
        "colab": {
          "background_save": true
        },
        "id": "_KDVjEuDtUmX",
        "outputId": "7c849876-7c6c-4662-9bb7-def67a73acb4"
      },
      "source": [
        "y_train_int = list(map(sent_to_int, y_train))\n",
        "y_test_int = list(map(sent_to_int, y_test))\n",
        "\n",
        "y_train_int = keras.utils.to_categorical(y_train_int, num_classes)\n",
        "y_test_int = keras.utils.to_categorical(y_test_int, num_classes)"
      ],
      "execution_count": null,
      "outputs": [
        {
          "output_type": "error",
          "ename": "AttributeError",
          "evalue": "ignored",
          "traceback": [
            "\u001b[0;31m---------------------------------------------------------------------------\u001b[0m",
            "\u001b[0;31mAttributeError\u001b[0m                            Traceback (most recent call last)",
            "\u001b[0;32m<ipython-input-73-e2a774465ae0>\u001b[0m in \u001b[0;36m<module>\u001b[0;34m()\u001b[0m\n\u001b[1;32m      2\u001b[0m \u001b[0my_test_int\u001b[0m \u001b[0;34m=\u001b[0m \u001b[0mlist\u001b[0m\u001b[0;34m(\u001b[0m\u001b[0mmap\u001b[0m\u001b[0;34m(\u001b[0m\u001b[0msent_to_int\u001b[0m\u001b[0;34m,\u001b[0m \u001b[0my_test\u001b[0m\u001b[0;34m)\u001b[0m\u001b[0;34m)\u001b[0m\u001b[0;34m\u001b[0m\u001b[0;34m\u001b[0m\u001b[0m\n\u001b[1;32m      3\u001b[0m \u001b[0;34m\u001b[0m\u001b[0m\n\u001b[0;32m----> 4\u001b[0;31m \u001b[0my_train_int\u001b[0m \u001b[0;34m=\u001b[0m \u001b[0mkeras\u001b[0m\u001b[0;34m.\u001b[0m\u001b[0mutils\u001b[0m\u001b[0;34m.\u001b[0m\u001b[0mto_categorical\u001b[0m\u001b[0;34m(\u001b[0m\u001b[0my_train_int\u001b[0m\u001b[0;34m,\u001b[0m \u001b[0mnum_classes\u001b[0m\u001b[0;34m)\u001b[0m\u001b[0;34m\u001b[0m\u001b[0;34m\u001b[0m\u001b[0m\n\u001b[0m\u001b[1;32m      5\u001b[0m \u001b[0my_test_int\u001b[0m \u001b[0;34m=\u001b[0m \u001b[0mkeras\u001b[0m\u001b[0;34m.\u001b[0m\u001b[0mutils\u001b[0m\u001b[0;34m.\u001b[0m\u001b[0mto_categorical\u001b[0m\u001b[0;34m(\u001b[0m\u001b[0my_test_int\u001b[0m\u001b[0;34m,\u001b[0m \u001b[0mnum_classes\u001b[0m\u001b[0;34m)\u001b[0m\u001b[0;34m\u001b[0m\u001b[0;34m\u001b[0m\u001b[0m\n",
            "\u001b[0;31mAttributeError\u001b[0m: module 'keras.utils' has no attribute 'to_categorical'"
          ]
        }
      ]
    },
    {
      "cell_type": "code",
      "metadata": {
        "colab": {
          "background_save": true
        },
        "id": "zQ6Ok5AAnB6P"
      },
      "source": [
        "from keras import regularizers\n",
        "\n",
        "model = Sequential()\n",
        "model.add(Dense(100, activation='relu', input_dim=n_dim, kernel_regularizer=regularizers.l2(0.01)))\n",
        "model.add(Dropout(0.2)) \n",
        "model.add(Dense(100, activation='relu', kernel_regularizer=regularizers.l2(0.01)))\n",
        "model.add(Dense(3, activation='softmax'))\n",
        "model.compile(optimizer='rmsprop',\n",
        "              loss='categorical_crossentropy',\n",
        "              metrics=['accuracy'])\n",
        "\n",
        "model.fit(train_vecs_w2v, y_train_int, epochs=20, batch_size=100, verbose=2,)"
      ],
      "execution_count": null,
      "outputs": []
    },
    {
      "cell_type": "code",
      "metadata": {
        "id": "tYuMXXI7Pw7I"
      },
      "source": [
        "score = model.evaluate(test_vecs_w2v, y_test_int, batch_size=10, verbose=2)\n",
        "score[1]"
      ],
      "execution_count": null,
      "outputs": []
    },
    {
      "cell_type": "markdown",
      "metadata": {
        "id": "DX7OdFbIpWw7"
      },
      "source": [
        "## Использованные ресурсы\n",
        "- Сайт Национальный корпуса русского языка: http://ruscorpora.ru/index.html\n",
        "- Emoji pattern: https://stackoverflow.com/a/54313085\n",
        "- Stuck words splitter: https://nbviewer.jupyter.org/url/norvig.com/ipython/How%20to%20Do%20Things%20with%20Words.ipynb#(5)-Task:-Word-Segmentation\n",
        "- Keras Documentation: https://keras.io/\n",
        "- Sentiment analysis on Twitter using word2vec and keras: https://ahmedbesbes.com/sentiment-analysis-on-twitter-using-word2vec-and-keras.html\n",
        "- Micro-Macro Precision,Recall and F-Score: https://medium.com/@ramit.singh.pahwa/micro-macro-precision-recall-and-f-score-44439de1a044"
      ]
    }
  ]
}